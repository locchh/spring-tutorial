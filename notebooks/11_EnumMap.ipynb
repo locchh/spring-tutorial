{
 "cells": [
  {
   "cell_type": "code",
   "execution_count": null,
   "id": "78ef0270-804d-45c7-9ab2-f7d15ed2c31e",
   "metadata": {},
   "outputs": [],
   "source": []
  }
 ],
 "metadata": {
  "kernelspec": {
   "display_name": "Java",
   "language": "java",
   "name": "java"
  },
  "language_info": {
   "codemirror_mode": "java",
   "file_extension": ".jshell",
   "mimetype": "text/x-java-source",
   "name": "Java",
   "pygments_lexer": "java",
   "version": "11.0.26+4-post-Ubuntu-1ubuntu124.04"
  }
 },
 "nbformat": 4,
 "nbformat_minor": 5
}
