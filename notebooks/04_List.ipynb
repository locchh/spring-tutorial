{
 "cells": [
  {
   "cell_type": "markdown",
   "id": "2801cefb-44c3-491d-be3f-38fbd47df973",
   "metadata": {},
   "source": [
    "### List Interface"
   ]
  },
  {
   "cell_type": "code",
   "execution_count": 1,
   "id": "3599e2e9-6df9-4035-ad30-7b3c4bc86364",
   "metadata": {},
   "outputs": [],
   "source": [
    "import java.util.List;"
   ]
  },
  {
   "cell_type": "code",
   "execution_count": 3,
   "id": "3ba1eee4-bf11-44d6-a25d-279f3c38a46b",
   "metadata": {},
   "outputs": [],
   "source": [
    "List<Integer> linkedList = new LinkedList<Integer>();\n",
    "\n",
    "List<Integer> arrayList = new ArrayList<Integer>();\n",
    "\n",
    "List<Integer> vectors = new Vector<Integer>();"
   ]
  },
  {
   "cell_type": "markdown",
   "id": "59d6809e-ac07-456e-8901-f2cdafee944a",
   "metadata": {},
   "source": [
    "### ArrayList\n",
    "\n",
    "dynamically increase or decrease its size"
   ]
  },
  {
   "cell_type": "code",
   "execution_count": null,
   "id": "ec5241be-f6f0-49f9-8fd3-00dab45982e0",
   "metadata": {},
   "outputs": [],
   "source": []
  }
 ],
 "metadata": {
  "kernelspec": {
   "display_name": "Java",
   "language": "java",
   "name": "java"
  },
  "language_info": {
   "codemirror_mode": "java",
   "file_extension": ".jshell",
   "mimetype": "text/x-java-source",
   "name": "Java",
   "pygments_lexer": "java",
   "version": "11.0.26+4-post-Ubuntu-1ubuntu124.04"
  }
 },
 "nbformat": 4,
 "nbformat_minor": 5
}
