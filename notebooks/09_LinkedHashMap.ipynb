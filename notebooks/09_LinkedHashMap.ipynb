{
 "cells": [
  {
   "cell_type": "markdown",
   "id": "aeeba93f-ca14-452c-bf48-4207ec65a37f",
   "metadata": {},
   "source": [
    "### LinkedHashMap\n",
    "\n",
    "Here's a table of commonly used methods in Java's `LinkedHashMap` class, categorized for clarity:\n",
    "\n",
    "### 📘 Table: `LinkedHashMap` Methods in Java\n",
    "\n",
    "| **Category**            | **Method**                                                                  | **Description**                                       |\n",
    "| ----------------------- | --------------------------------------------------------------------------- | ----------------------------------------------------- |\n",
    "| **Creation**            | `LinkedHashMap()`                                                           | Creates an empty insertion-ordered map.               |\n",
    "|                         | `LinkedHashMap(int initialCapacity)`                                        | With a specified capacity.                            |\n",
    "|                         | `LinkedHashMap(int initialCapacity, float loadFactor)`                      | With capacity and load factor.                        |\n",
    "|                         | `LinkedHashMap(int initialCapacity, float loadFactor, boolean accessOrder)` | Allows access-ordering instead of insertion-ordering. |\n",
    "| **Basic Operations**    | `put(K key, V value)`                                                       | Inserts a key-value pair.                             |\n",
    "|                         | `get(Object key)`                                                           | Retrieves value for the given key.                    |\n",
    "|                         | `remove(Object key)`                                                        | Removes the mapping for a key.                        |\n",
    "|                         | `containsKey(Object key)`                                                   | Checks if the map contains the given key.             |\n",
    "|                         | `containsValue(Object value)`                                               | Checks if the map contains the given value.           |\n",
    "|                         | `size()`                                                                    | Returns the number of entries.                        |\n",
    "|                         | `isEmpty()`                                                                 | Checks if the map is empty.                           |\n",
    "| **Iteration**           | `keySet()`                                                                  | Returns a `Set` of keys in insertion or access order. |\n",
    "|                         | `values()`                                                                  | Returns a `Collection` of values.                     |\n",
    "|                         | `entrySet()`                                                                | Returns a `Set` of key-value pairs (Map.Entry).       |\n",
    "| **Access Order**        | `get(Object key)` (when `accessOrder=true`)                                 | Moves accessed key to the end of the list.            |\n",
    "| **Advanced**            | `clear()`                                                                   | Removes all mappings.                                 |\n",
    "|                         | `clone()`                                                                   | Returns a shallow copy of the map.                    |\n",
    "|                         | `replace(K key, V value)`                                                   | Replaces the value for a specific key.                |\n",
    "|                         | `compute()`, `merge()`, `forEach()`                                         | Functional-style utility methods (since Java 8).      |\n",
    "| **Eviction (override)** | `protected boolean removeEldestEntry(Map.Entry<K,V> eldest)`                | Override to implement LRU caching logic.              |\n",
    "\n",
    "Would you like a code example showing how access order or `removeEldestEntry()` works?\n"
   ]
  },
  {
   "cell_type": "code",
   "execution_count": 1,
   "id": "aa67a84e-6bbf-47a4-8117-0f0caa8f0026",
   "metadata": {},
   "outputs": [],
   "source": [
    "import java.util.LinkedHashMap;"
   ]
  },
  {
   "cell_type": "code",
   "execution_count": 4,
   "id": "4edc2ffa-ed98-4e61-998e-5cd04153a0fb",
   "metadata": {},
   "outputs": [],
   "source": [
    "// LinkedHashMap<String, Integer> evenNumbers = new LinkedHashMap<String, Integer>();\n",
    "LinkedHashMap<String, Integer> evenNumbers = new LinkedHashMap();"
   ]
  },
  {
   "cell_type": "code",
   "execution_count": 5,
   "id": "6feb20b1-df37-4859-b77b-e846784b3fbf",
   "metadata": {},
   "outputs": [
    {
     "data": {
      "text/plain": [
       "{TWO=2, FOUR=4}"
      ]
     },
     "execution_count": 5,
     "metadata": {},
     "output_type": "execute_result"
    }
   ],
   "source": [
    "evenNumbers.put(\"TWO\",2);\n",
    "evenNumbers.put(\"FOUR\",4);\n",
    "evenNumbers"
   ]
  },
  {
   "cell_type": "code",
   "execution_count": 6,
   "id": "8042e37c-7794-440c-bc64-47a596999a0f",
   "metadata": {},
   "outputs": [
    {
     "data": {
      "text/plain": [
       "{TWO=2, FOUR=4, SIX=6}"
      ]
     },
     "execution_count": 6,
     "metadata": {},
     "output_type": "execute_result"
    }
   ],
   "source": [
    "LinkedHashMap<String, Integer> numbers = new LinkedHashMap(evenNumbers);\n",
    "\n",
    "numbers.put(\"SIX\",6);\n",
    "numbers"
   ]
  },
  {
   "cell_type": "code",
   "execution_count": 9,
   "id": "0082ae85-e112-4603-94d9-bdb3416168c0",
   "metadata": {},
   "outputs": [
    {
     "data": {
      "text/plain": [
       "{TWO=2, FOUR=4, SIX=6, EIGHT=8}"
      ]
     },
     "execution_count": 9,
     "metadata": {},
     "output_type": "execute_result"
    }
   ],
   "source": [
    "numbers.putIfAbsent(\"SIX\",6);\n",
    "numbers.putIfAbsent(\"EIGHT\",8);\n",
    "\n",
    "\n",
    "numbers"
   ]
  },
  {
   "cell_type": "code",
   "execution_count": null,
   "id": "f0127eb8-13fe-47ca-8620-5830d504ae02",
   "metadata": {},
   "outputs": [],
   "source": []
  }
 ],
 "metadata": {
  "kernelspec": {
   "display_name": "Java",
   "language": "java",
   "name": "java"
  },
  "language_info": {
   "codemirror_mode": "java",
   "file_extension": ".jshell",
   "mimetype": "text/x-java-source",
   "name": "Java",
   "pygments_lexer": "java",
   "version": "11.0.26+4-post-Ubuntu-1ubuntu124.04"
  }
 },
 "nbformat": 4,
 "nbformat_minor": 5
}
