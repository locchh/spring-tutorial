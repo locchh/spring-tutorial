{
 "cells": [
  {
   "cell_type": "markdown",
   "id": "aac9689d-9a32-4f9b-926f-69b103491296",
   "metadata": {},
   "source": [
    "### Stack\n",
    "\n",
    "Stack is a linear data structure in which insertion and deletion of elements can be done only at one end called the top. It has a pointer to its top element and works in `LIFO` (Last-in-First-Out) manner.\n",
    "\n",
    "Here is a table of commonly used `Stack` methods in Java, available in the `java.util.Stack` class:\n",
    "\n",
    "| Method                 | Description                                                                 |\n",
    "| ---------------------- | --------------------------------------------------------------------------- |\n",
    "| `push(E item)`         | Pushes an item onto the top of the stack.                                   |\n",
    "| `pop()`                | Removes and returns the item at the top of the stack.                       |\n",
    "| `peek()`               | Looks at the object at the top of the stack without removing it.            |\n",
    "| `empty()`              | Returns `true` if the stack is empty.                                       |\n",
    "| `search(Object o)`     | Returns the 1-based position from the top of the stack if found; else `-1`. |\n",
    "| `size()`               | Returns the number of elements in the stack.                                |\n",
    "| `isEmpty()`            | Checks if the stack is empty (inherited from `Vector`).                     |\n",
    "| `clear()`              | Removes all elements from the stack (inherited from `Vector`).              |\n",
    "| `contains(Object o)`   | Returns `true` if the stack contains the specified element.                 |\n",
    "| `elementAt(int index)` | Returns the element at the specified position (0-based index).              |\n",
    "| `iterator()`           | Returns an iterator over the stack elements (from bottom to top).           |\n",
    "\n",
    "#### Example:\n",
    "\n",
    "```java\n",
    "Stack<Integer> stack = new Stack<>();\n",
    "\n",
    "stack.push(10);\n",
    "stack.push(20);\n",
    "System.out.println(stack.peek());  // 20\n",
    "System.out.println(stack.pop());   // 20\n",
    "System.out.println(stack.empty()); // false\n",
    "```\n",
    "\n",
    "Would you like a visual diagram or PDF of this table?\n"
   ]
  },
  {
   "cell_type": "code",
   "execution_count": 1,
   "id": "ad192d1b-3174-4523-b857-021350d4278a",
   "metadata": {},
   "outputs": [],
   "source": [
    "import java.util.Stack"
   ]
  },
  {
   "cell_type": "code",
   "execution_count": 2,
   "id": "70b42045-0195-439c-bdb0-28461c638a10",
   "metadata": {},
   "outputs": [],
   "source": [
    "Stack<Integer> stack = new Stack<Integer>();"
   ]
  },
  {
   "cell_type": "code",
   "execution_count": 3,
   "id": "b541d79f-ffec-4889-8676-429a242f7a19",
   "metadata": {},
   "outputs": [
    {
     "name": "stdout",
     "output_type": "stream",
     "text": [
      "0\n"
     ]
    }
   ],
   "source": [
    "System.out.println(stack.size());"
   ]
  },
  {
   "cell_type": "code",
   "execution_count": 4,
   "id": "b6be5453-d107-42ed-adbb-5176b6115867",
   "metadata": {},
   "outputs": [
    {
     "data": {
      "text/plain": [
       "30"
      ]
     },
     "execution_count": 4,
     "metadata": {},
     "output_type": "execute_result"
    }
   ],
   "source": [
    "stack.push(10);\n",
    "stack.push(20);\n",
    "stack.push(30);"
   ]
  },
  {
   "cell_type": "code",
   "execution_count": 5,
   "id": "c7fdbcd6-a32b-41be-92c2-5a65f1fb7cb3",
   "metadata": {},
   "outputs": [
    {
     "name": "stdout",
     "output_type": "stream",
     "text": [
      "[10, 20, 30]\n"
     ]
    }
   ],
   "source": [
    "System.out.println(stack);"
   ]
  },
  {
   "cell_type": "code",
   "execution_count": 6,
   "id": "5d2a7d18-b083-4de7-b94e-209939001bd3",
   "metadata": {},
   "outputs": [
    {
     "data": {
      "text/plain": [
       "3"
      ]
     },
     "execution_count": 6,
     "metadata": {},
     "output_type": "execute_result"
    }
   ],
   "source": [
    "stack.size();"
   ]
  },
  {
   "cell_type": "code",
   "execution_count": 7,
   "id": "37824d63-9866-4189-8a1a-002e70f0c2a0",
   "metadata": {},
   "outputs": [
    {
     "data": {
      "text/plain": [
       "20"
      ]
     },
     "execution_count": 7,
     "metadata": {},
     "output_type": "execute_result"
    }
   ],
   "source": [
    "stack.pop();\n",
    "\n",
    "stack.peek();"
   ]
  },
  {
   "cell_type": "code",
   "execution_count": 8,
   "id": "461a9f7d-2386-4c98-a0ae-c3832a2a1564",
   "metadata": {},
   "outputs": [
    {
     "name": "stdout",
     "output_type": "stream",
     "text": [
      "[10, 20]\n"
     ]
    }
   ],
   "source": [
    "System.out.println(stack);"
   ]
  },
  {
   "cell_type": "code",
   "execution_count": 9,
   "id": "ce24cfa5-5828-4a43-8f88-c3278c1ab25b",
   "metadata": {},
   "outputs": [
    {
     "name": "stdout",
     "output_type": "stream",
     "text": [
      "[10]\n"
     ]
    }
   ],
   "source": [
    "stack.pop();\n",
    "\n",
    "System.out.println(stack);"
   ]
  },
  {
   "cell_type": "code",
   "execution_count": 15,
   "id": "ef86b3ac-06ce-4524-ba42-85f1ccc12b22",
   "metadata": {},
   "outputs": [],
   "source": [
    "class StringReverser{\n",
    "\n",
    "    public String reverse(String input){\n",
    "        String reversed = \"\";\n",
    "\n",
    "        Stack<Character> stack = new Stack<Character>();\n",
    "\n",
    "        // Collect element to stack\n",
    "        for(char c: input.toCharArray()){\n",
    "            stack.push(c);\n",
    "        }\n",
    "\n",
    "        // Concat element to reversed string\n",
    "        while(!stack.empty()){\n",
    "            reversed += stack.pop();\n",
    "        }\n",
    "\n",
    "        return reversed;\n",
    "    }\n",
    "}"
   ]
  },
  {
   "cell_type": "code",
   "execution_count": 17,
   "id": "3ecb8837-3737-4b0d-9d9b-8f1690713bda",
   "metadata": {},
   "outputs": [
    {
     "name": "stdout",
     "output_type": "stream",
     "text": [
      "Original String: hello world\n",
      "Reversed String: dlrow olleh\n"
     ]
    }
   ],
   "source": [
    "StringReverser reverser = new StringReverser();\n",
    "\n",
    "String s = \"hello world\";\n",
    "\n",
    "System.out.println(\"Original String: \"+s);\n",
    "\n",
    "reverser.reverse(s);\n",
    "\n",
    "System.out.println(\"Reversed String: \"+ reverser.reverse(s));\n"
   ]
  },
  {
   "cell_type": "code",
   "execution_count": null,
   "id": "11eb32c0-1ea5-4da1-8e3e-1b065bd7d7dc",
   "metadata": {},
   "outputs": [],
   "source": []
  }
 ],
 "metadata": {
  "kernelspec": {
   "display_name": "Java",
   "language": "java",
   "name": "java"
  },
  "language_info": {
   "codemirror_mode": "java",
   "file_extension": ".jshell",
   "mimetype": "text/x-java-source",
   "name": "Java",
   "pygments_lexer": "java",
   "version": "11.0.26+4-post-Ubuntu-1ubuntu124.04"
  }
 },
 "nbformat": 4,
 "nbformat_minor": 5
}
