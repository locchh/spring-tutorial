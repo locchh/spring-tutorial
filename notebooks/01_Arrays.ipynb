{
 "cells": [
  {
   "cell_type": "markdown",
   "id": "76aeb92d-a9bc-4cac-b992-c6e43a3c7a7a",
   "metadata": {},
   "source": [
    "## Array\n",
    "\n",
    "An **array** in Java is a container object that holds a fixed number of values of a single type. The length of an array is established when the array is created. After creation, its length is fixed.\n",
    "\n",
    "You can declare an array by specifying the type of its elements:\n",
    "\n",
    "```java\n",
    "int[] numbers;\n",
    "String[] names;\n",
    "```"
   ]
  },
  {
   "cell_type": "markdown",
   "id": "7b81d683-f5a9-4bfd-bbf5-c7728eb2fecd",
   "metadata": {},
   "source": [
    "### One-dimensional Array"
   ]
  },
  {
   "cell_type": "markdown",
   "id": "697796cb-80fe-46c8-9166-5858471145f0",
   "metadata": {},
   "source": [
    "#### Declaring an array"
   ]
  },
  {
   "cell_type": "code",
   "execution_count": 4,
   "id": "295146fb-952d-4bb0-9678-428c117b37e9",
   "metadata": {},
   "outputs": [],
   "source": [
    "// Declare an array\n",
    "int[] marks;\n",
    "marks = new int[5]; // Allocate memory for the array using the new keyword"
   ]
  },
  {
   "cell_type": "code",
   "execution_count": 5,
   "id": "f06af41d-9160-4c31-9e02-9e34c6174183",
   "metadata": {},
   "outputs": [],
   "source": [
    "// Combine declaration and creation\n",
    "int[] marks = new int[5];"
   ]
  },
  {
   "cell_type": "markdown",
   "id": "4eec4bcc-e98e-42a6-85b9-4334c851b9a6",
   "metadata": {},
   "source": [
    "#### Initializing an Array\n",
    "\n",
    "**Note**: *array creation with both dimension expression and initialization is illegal*\n",
    "\n",
    "```\n",
    "int[] marks = new int[5] {10, 20, 30, 40, 50};\n",
    "```\n",
    "\n"
   ]
  },
  {
   "cell_type": "code",
   "execution_count": 15,
   "id": "c1948bb3-00b8-4b25-bf49-eff872f84ca8",
   "metadata": {},
   "outputs": [],
   "source": [
    "// Initialization\n",
    "int[] marks = new int[] {10, 20, 30, 40, 50};"
   ]
  },
  {
   "cell_type": "code",
   "execution_count": 12,
   "id": "06490132-40fa-4a8f-851e-42d7571ed623",
   "metadata": {},
   "outputs": [
    {
     "data": {
      "text/plain": [
       "50"
      ]
     },
     "execution_count": 12,
     "metadata": {},
     "output_type": "execute_result"
    }
   ],
   "source": [
    "// Declare and Assign\n",
    "int[] marks = new int[5];\n",
    "marks[0] = 10;\n",
    "marks[1] = 20;\n",
    "marks[2] = 30;\n",
    "marks[3] = 40;\n",
    "marks[4] = 50;"
   ]
  },
  {
   "cell_type": "code",
   "execution_count": 16,
   "id": "fd1d8aa5-6d14-45be-9642-3908dabaacd1",
   "metadata": {},
   "outputs": [
    {
     "data": {
      "text/plain": [
       "[I@62195897"
      ]
     },
     "execution_count": 16,
     "metadata": {},
     "output_type": "execute_result"
    }
   ],
   "source": [
    "marks"
   ]
  },
  {
   "cell_type": "markdown",
   "id": "adba9b50-be71-43d7-a71c-e242ab1735d6",
   "metadata": {},
   "source": [
    "#### Loop through elements"
   ]
  },
  {
   "cell_type": "code",
   "execution_count": 19,
   "id": "fafffb67-acab-4312-8334-4be4e0b24031",
   "metadata": {},
   "outputs": [
    {
     "name": "stdout",
     "output_type": "stream",
     "text": [
      "10\n",
      "20\n",
      "30\n",
      "40\n",
      "50\n"
     ]
    }
   ],
   "source": [
    "for(int i=0;i<marks.length;i++){\n",
    "    System.out.println(marks[i]);\n",
    "}"
   ]
  },
  {
   "cell_type": "code",
   "execution_count": 20,
   "id": "eeec1e60-406e-49f4-8487-3fbd20b0ae88",
   "metadata": {},
   "outputs": [
    {
     "name": "stdout",
     "output_type": "stream",
     "text": [
      "10\n",
      "20\n",
      "30\n",
      "40\n",
      "50\n"
     ]
    }
   ],
   "source": [
    "// For each loop\n",
    "for (int mark : marks){\n",
    "    System.out.println(mark);\n",
    "}"
   ]
  },
  {
   "cell_type": "markdown",
   "id": "aa0c96bc-f30a-4d82-90d9-60b9e8a3b552",
   "metadata": {},
   "source": [
    "### Multi-dimensional Array"
   ]
  },
  {
   "cell_type": "code",
   "execution_count": 23,
   "id": "fbbe0f6d-90a5-43e0-a6a6-b8f6a739fea1",
   "metadata": {},
   "outputs": [],
   "source": [
    "// Create a multi-dim array\n",
    "int[][] marks = new int[][] {\n",
    "    {67,76,87,89,98},\n",
    "    {76,77,56,65,90},\n",
    "    {67,79,92,63,55},\n",
    "}"
   ]
  },
  {
   "cell_type": "code",
   "execution_count": 24,
   "id": "47dc63e5-b7b8-4efe-8dfd-c7d9f1c2cd9b",
   "metadata": {},
   "outputs": [],
   "source": [
    "// OR\n",
    "int[][] marks = {\n",
    "    {67,76,87,89,98},\n",
    "    {76,77,56,65,90},\n",
    "    {67,79,92,63,55},\n",
    "}"
   ]
  },
  {
   "cell_type": "code",
   "execution_count": 28,
   "id": "0581491c-987a-4986-97b8-ecf799dc0162",
   "metadata": {},
   "outputs": [
    {
     "name": "stdout",
     "output_type": "stream",
     "text": [
      "67\t76\t87\t89\t98\t\n",
      "76\t77\t56\t65\t90\t\n",
      "67\t79\t92\t63\t55\t\n"
     ]
    }
   ],
   "source": [
    "// Loop over multi-dim array\n",
    "for(int i=0;i<3;i++){\n",
    "    for(int j=0;j<5;j++){\n",
    "        System.out.print(marks[i][j] + \"\\t\");\n",
    "    }\n",
    "    System.out.println();\n",
    "}"
   ]
  },
  {
   "cell_type": "code",
   "execution_count": null,
   "id": "5ee090a1-29d3-4f59-8668-795da387ae54",
   "metadata": {},
   "outputs": [],
   "source": []
  }
 ],
 "metadata": {
  "kernelspec": {
   "display_name": "Java",
   "language": "java",
   "name": "java"
  },
  "language_info": {
   "codemirror_mode": "java",
   "file_extension": ".jshell",
   "mimetype": "text/x-java-source",
   "name": "Java",
   "pygments_lexer": "java",
   "version": "11.0.26+4-post-Ubuntu-1ubuntu124.04"
  }
 },
 "nbformat": 4,
 "nbformat_minor": 5
}
