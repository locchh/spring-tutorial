{
 "cells": [
  {
   "cell_type": "markdown",
   "id": "197ce1b0-ca93-4446-bef6-ca6725876bca",
   "metadata": {},
   "source": [
    "### SortedSet\n",
    "\n",
    "It is an interface that implements the mathematical set.\n",
    "\n",
    "\n",
    "Here’s a table of commonly used methods in Java’s `SortedSet` interface (from `java.util` package), which is typically implemented by classes like `TreeSet`:\n",
    "\n",
    "| **Method**                           | **Description**                                                                           |\n",
    "| ------------------------------------ | ----------------------------------------------------------------------------------------- |\n",
    "| `comparator()`                       | Returns the comparator used to order the elements, or `null` if natural ordering is used. |\n",
    "| `first()`                            | Returns the first (lowest) element in the set.                                            |\n",
    "| `last()`                             | Returns the last (highest) element in the set.                                            |\n",
    "| `headSet(E toElement)`               | Returns a view of the set strictly less than `toElement`.                                 |\n",
    "| `tailSet(E fromElement)`             | Returns a view of the set greater than or equal to `fromElement`.                         |\n",
    "| `subSet(E fromElement, E toElement)` | Returns a view of the set between `fromElement` (inclusive) and `toElement` (exclusive).  |\n",
    "| `add(E e)`                           | Adds the specified element to the set if it is not already present.                       |\n",
    "| `remove(Object o)`                   | Removes the specified element from the set if it is present.                              |\n",
    "| `contains(Object o)`                 | Returns `true` if the set contains the specified element.                                 |\n",
    "| `size()`                             | Returns the number of elements in the set.                                                |\n",
    "| `isEmpty()`                          | Returns `true` if the set contains no elements.                                           |\n",
    "| `iterator()`                         | Returns an iterator over the elements in ascending order.                                 |\n",
    "| `clear()`                            | Removes all elements from the set.                                                        |\n",
    "\n",
    "### Notes:\n",
    "\n",
    "* `SortedSet` guarantees elements are in **ascending order**.\n",
    "* `TreeSet` is the most commonly used implementation of `SortedSet`."
   ]
  },
  {
   "cell_type": "code",
   "execution_count": 1,
   "id": "84c736a5-0bf2-4e8a-8527-8268d65b2090",
   "metadata": {},
   "outputs": [],
   "source": [
    "import java.util.SortedSet;\n",
    "import java.util.TreeSet;"
   ]
  },
  {
   "cell_type": "code",
   "execution_count": 2,
   "id": "3d532071-389d-4b2c-be45-f9ca59a1f18e",
   "metadata": {},
   "outputs": [
    {
     "data": {
      "text/plain": [
       "[Australia, India, Japan, South Africa]"
      ]
     },
     "execution_count": 2,
     "metadata": {},
     "output_type": "execute_result"
    }
   ],
   "source": [
    "SortedSet<String> set = new TreeSet<String>();\n",
    "\n",
    "set.add(\"India\");\n",
    "set.add(\"Australia\");\n",
    "set.add(\"South Africa\");\n",
    "set.add(\"Japan\");\n",
    "set.add(\"India\");\n",
    "\n",
    "set"
   ]
  },
  {
   "cell_type": "code",
   "execution_count": 4,
   "id": "f622992c-9f88-4e9b-8d80-7920e1cdbde0",
   "metadata": {},
   "outputs": [
    {
     "name": "stdout",
     "output_type": "stream",
     "text": [
      "Australia\n",
      "India\n",
      "Japan\n",
      "South Africa\n"
     ]
    }
   ],
   "source": [
    "Iterator<String> iterator = set.iterator();\n",
    "\n",
    "while(iterator.hasNext()){\n",
    "    System.out.println(iterator.next());\n",
    "}"
   ]
  },
  {
   "cell_type": "code",
   "execution_count": 5,
   "id": "d11ea35f-e4b0-4e88-961c-9599d00288b8",
   "metadata": {},
   "outputs": [
    {
     "data": {
      "text/plain": [
       "true"
      ]
     },
     "execution_count": 5,
     "metadata": {},
     "output_type": "execute_result"
    }
   ],
   "source": [
    "set.contains(\"India\");"
   ]
  },
  {
   "cell_type": "code",
   "execution_count": 6,
   "id": "d55dcecf-fa03-4be6-a32f-3308b263371a",
   "metadata": {},
   "outputs": [
    {
     "data": {
      "text/plain": [
       "Australia"
      ]
     },
     "execution_count": 6,
     "metadata": {},
     "output_type": "execute_result"
    }
   ],
   "source": [
    "set.first();"
   ]
  },
  {
   "cell_type": "code",
   "execution_count": 7,
   "id": "e22867c6-aa01-40b7-9fed-74ddb72d3efc",
   "metadata": {},
   "outputs": [
    {
     "data": {
      "text/plain": [
       "South Africa"
      ]
     },
     "execution_count": 7,
     "metadata": {},
     "output_type": "execute_result"
    }
   ],
   "source": [
    "set.last();"
   ]
  },
  {
   "cell_type": "code",
   "execution_count": null,
   "id": "696993e4-c9aa-4e9f-974f-58837726b78a",
   "metadata": {},
   "outputs": [],
   "source": []
  }
 ],
 "metadata": {
  "kernelspec": {
   "display_name": "Java",
   "language": "java",
   "name": "java"
  },
  "language_info": {
   "codemirror_mode": "java",
   "file_extension": ".jshell",
   "mimetype": "text/x-java-source",
   "name": "Java",
   "pygments_lexer": "java",
   "version": "11.0.26+4-post-Ubuntu-1ubuntu124.04"
  }
 },
 "nbformat": 4,
 "nbformat_minor": 5
}
