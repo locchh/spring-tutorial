{
 "cells": [
  {
   "cell_type": "markdown",
   "id": "5c882e37-4d92-4ec8-84a3-44d00a77248c",
   "metadata": {},
   "source": [
    "### Queue\n",
    "\n",
    "The Queue in data structure is an ordered ,linear sequence of items. It is a `FIFO` (First In First Out) data structure\n",
    "\n",
    "Here is a table of commonly used **`Queue`** methods in Java (from the `java.util.Queue` interface):\n",
    "\n",
    "| Method               | Description                                                                     |\n",
    "| -------------------- | ------------------------------------------------------------------------------- |\n",
    "| `add(E e)`           | Inserts the specified element; throws an exception if the queue is full.        |\n",
    "| `offer(E e)`         | Inserts the specified element; returns `false` if the queue is full.            |\n",
    "| `remove()`           | Retrieves and removes the head; throws an exception if the queue is empty.      |\n",
    "| `poll()`             | Retrieves and removes the head; returns `null` if the queue is empty.           |\n",
    "| `element()`          | Retrieves, but does not remove, the head; throws exception if empty.            |\n",
    "| `peek()`             | Retrieves, but does not remove, the head; returns `null` if the queue is empty. |\n",
    "| `isEmpty()`          | Checks if the queue is empty (from `Collection` interface).                     |\n",
    "| `size()`             | Returns the number of elements in the queue.                                    |\n",
    "| `clear()`            | Removes all elements from the queue.                                            |\n",
    "| `contains(Object o)` | Returns `true` if the queue contains the specified element.                     |\n",
    "| `iterator()`         | Returns an iterator over the elements in the queue.                             |\n",
    "| `enqueue()`         | Process of adding or storing an element to the end of the queue                            |\n",
    "| `dequeue()`         | Process of removing or accessing an element from the front of the queue                       |\n",
    "| `isFull()`         | Check if the queue is empty                 |\n",
    "\n",
    "### Example Usage (with `LinkedList` as Queue):\n",
    "\n",
    "```java\n",
    "Queue<String> queue = new LinkedList<>();\n",
    "\n",
    "queue.offer(\"A\");\n",
    "queue.offer(\"B\");\n",
    "System.out.println(queue.peek());  // A\n",
    "System.out.println(queue.poll());  // A\n",
    "System.out.println(queue.isEmpty()); // false\n",
    "```\n",
    "\n",
    "Would you also like a table for `Deque` methods or a comparison between `Stack`, `Queue`, and `Deque`?\n"
   ]
  },
  {
   "cell_type": "code",
   "execution_count": 1,
   "id": "dbcdc9f6-0a54-49ff-8734-7bac794e68f1",
   "metadata": {},
   "outputs": [],
   "source": [
    "import java.util.PriorityQueue;"
   ]
  },
  {
   "cell_type": "code",
   "execution_count": 3,
   "id": "d34d659d-023b-43bf-b53d-5a81aae5a3c8",
   "metadata": {},
   "outputs": [
    {
     "name": "stdout",
     "output_type": "stream",
     "text": [
      "0\n"
     ]
    }
   ],
   "source": [
    "PriorityQueue<Integer> queue = new PriorityQueue<Integer>();\n",
    "\n",
    "System.out.println(queue.size());"
   ]
  },
  {
   "cell_type": "code",
   "execution_count": 4,
   "id": "df24a076-e328-4601-acdc-ca2dcad1b27a",
   "metadata": {},
   "outputs": [
    {
     "data": {
      "text/plain": [
       "true"
      ]
     },
     "execution_count": 4,
     "metadata": {},
     "output_type": "execute_result"
    }
   ],
   "source": [
    "queue.add(10);\n",
    "queue.add(20);\n",
    "queue.add(30);\n",
    "queue.add(40);"
   ]
  },
  {
   "cell_type": "code",
   "execution_count": 5,
   "id": "41444f92-60ec-48af-be30-7d5979997a21",
   "metadata": {},
   "outputs": [
    {
     "name": "stdout",
     "output_type": "stream",
     "text": [
      "4\n"
     ]
    }
   ],
   "source": [
    "System.out.println(queue.size());"
   ]
  },
  {
   "cell_type": "code",
   "execution_count": 6,
   "id": "ceaf2bd2-4487-4153-aaf0-8f439e055a19",
   "metadata": {},
   "outputs": [
    {
     "name": "stdout",
     "output_type": "stream",
     "text": [
      "[10, 20, 30, 40]\n"
     ]
    }
   ],
   "source": [
    "System.out.println(queue);"
   ]
  },
  {
   "cell_type": "code",
   "execution_count": 7,
   "id": "5b6e9b60-e1f0-465b-ab41-7b6ecbed1c6a",
   "metadata": {},
   "outputs": [
    {
     "name": "stdout",
     "output_type": "stream",
     "text": [
      "10\n"
     ]
    }
   ],
   "source": [
    "System.out.println(queue.poll());"
   ]
  },
  {
   "cell_type": "code",
   "execution_count": 8,
   "id": "6af74f6d-5815-4ebe-b674-0504a6c7afa7",
   "metadata": {},
   "outputs": [
    {
     "name": "stdout",
     "output_type": "stream",
     "text": [
      "3\n"
     ]
    }
   ],
   "source": [
    "System.out.println(queue.size());"
   ]
  },
  {
   "cell_type": "code",
   "execution_count": 10,
   "id": "1357de85-98dc-4561-b0b8-9ed3c8ad6079",
   "metadata": {},
   "outputs": [
    {
     "name": "stdout",
     "output_type": "stream",
     "text": [
      "[20, 40, 30]\n"
     ]
    }
   ],
   "source": [
    "System.out.println(queue);"
   ]
  },
  {
   "cell_type": "code",
   "execution_count": 9,
   "id": "800b29fe-0fb8-411a-a6fd-3d51f60f6251",
   "metadata": {},
   "outputs": [
    {
     "name": "stdout",
     "output_type": "stream",
     "text": [
      "false\n"
     ]
    }
   ],
   "source": [
    "System.out.println(queue.isEmpty());"
   ]
  },
  {
   "cell_type": "code",
   "execution_count": 16,
   "id": "4180f46b-ce93-435c-920f-78ff001fc38a",
   "metadata": {},
   "outputs": [],
   "source": [
    "public class ReverseQueueUsingQueueExample{\n",
    "\n",
    "    public static void reverse(Queue<Integer> queue){\n",
    "        \n",
    "        // Create stack\n",
    "        Stack<Integer> stack = new Stack<Integer>();\n",
    "\n",
    "        // Move element from queue to stack (First in first out)\n",
    "        while(!queue.isEmpty()){\n",
    "            stack.push(queue.poll());\n",
    "        }\n",
    "\n",
    "        // Move element from stack to queue (Last in first out)\n",
    "        while(!stack.isEmpty()){\n",
    "            queue.add(stack.pop());\n",
    "        }\n",
    "    }\n",
    "}"
   ]
  },
  {
   "cell_type": "code",
   "execution_count": 17,
   "id": "0ab317fb-8300-43b6-b1ac-98eae35d0710",
   "metadata": {},
   "outputs": [
    {
     "name": "stdout",
     "output_type": "stream",
     "text": [
      "[10, 20, 30, 40]\n"
     ]
    }
   ],
   "source": [
    "Queue<Integer> queue = new ArrayDeque<Integer>();\n",
    "\n",
    "queue.add(10);\n",
    "queue.add(20);\n",
    "queue.add(30);\n",
    "queue.add(40);\n",
    "\n",
    "System.out.println(queue);"
   ]
  },
  {
   "cell_type": "code",
   "execution_count": 18,
   "id": "e9690b13-0f59-4e89-9a9e-0b5d168dcb15",
   "metadata": {},
   "outputs": [],
   "source": [
    "ReverseQueueUsingQueueExample reverser = new ReverseQueueUsingQueueExample();"
   ]
  },
  {
   "cell_type": "code",
   "execution_count": 19,
   "id": "bd1be60a-94de-44dd-b520-c41a2ba9117e",
   "metadata": {},
   "outputs": [],
   "source": [
    "reverser.reverse(queue)"
   ]
  },
  {
   "cell_type": "code",
   "execution_count": 20,
   "id": "0f94ecbf-07a8-42bc-a6a0-11ba7ea06d3f",
   "metadata": {},
   "outputs": [
    {
     "name": "stdout",
     "output_type": "stream",
     "text": [
      "[40, 30, 20, 10]\n"
     ]
    }
   ],
   "source": [
    "System.out.println(queue);"
   ]
  },
  {
   "cell_type": "code",
   "execution_count": null,
   "id": "aa7b70a4-db8b-4823-9899-3a4d394aac59",
   "metadata": {},
   "outputs": [],
   "source": []
  }
 ],
 "metadata": {
  "kernelspec": {
   "display_name": "Java",
   "language": "java",
   "name": "java"
  },
  "language_info": {
   "codemirror_mode": "java",
   "file_extension": ".jshell",
   "mimetype": "text/x-java-source",
   "name": "Java",
   "pygments_lexer": "java",
   "version": "11.0.26+4-post-Ubuntu-1ubuntu124.04"
  }
 },
 "nbformat": 4,
 "nbformat_minor": 5
}
