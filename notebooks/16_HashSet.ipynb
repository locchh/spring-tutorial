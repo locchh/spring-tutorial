{
 "cells": [
  {
   "cell_type": "markdown",
   "id": "2c7b70d2-4cef-43c5-89bd-4686bb130ef5",
   "metadata": {},
   "source": [
    "### HashSet\n",
    "\n",
    "Java HashSet class is used to create a collection that uses a hash table for storage.\n",
    "\n",
    "\n",
    "Here’s a table of commonly used methods in Java’s `HashSet` class (from `java.util` package):\n",
    "\n",
    "| **Method**                          | **Description**                                                                      |\n",
    "| ----------------------------------- | ------------------------------------------------------------------------------------ |\n",
    "| `add(E e)`                          | Adds the specified element to the set if it is not already present.                  |\n",
    "| `addAll(Collection<? extends E> c)` | Adds all of the elements in the specified collection to the set.                     |\n",
    "| `clear()`                           | Removes all of the elements from the set.                                            |\n",
    "| `contains(Object o)`                | Returns `true` if the set contains the specified element.                            |\n",
    "| `isEmpty()`                         | Returns `true` if the set contains no elements.                                      |\n",
    "| `iterator()`                        | Returns an iterator over the elements in the set.                                    |\n",
    "| `remove(Object o)`                  | Removes the specified element from the set if it is present.                         |\n",
    "| `size()`                            | Returns the number of elements in the set.                                           |\n",
    "| `toArray()`                         | Returns an array containing all of the elements in the set.                          |\n",
    "| `toArray(T[] a)`                    | Returns an array containing all elements; the runtime type is that of the array.     |\n",
    "| `clone()`                           | Returns a shallow copy of this `HashSet` instance.                                   |\n",
    "| `containsAll(Collection<?> c)`      | Returns `true` if the set contains all elements in the specified collection.         |\n",
    "| `removeAll(Collection<?> c)`        | Removes all the elements in the specified collection from the set.                   |\n",
    "| `retainAll(Collection<?> c)`        | Retains only the elements in the set that are contained in the specified collection. |\n",
    "| `spliterator()`                     | Creates a late-binding and fail-fast spliterator over the elements.                  |"
   ]
  },
  {
   "cell_type": "code",
   "execution_count": 5,
   "id": "a131ad7b-1b43-45df-96a2-0e2b00eff92f",
   "metadata": {},
   "outputs": [],
   "source": [
    "import java.util.HashSet;\n",
    "import java.util.Iterator;"
   ]
  },
  {
   "cell_type": "code",
   "execution_count": 3,
   "id": "a8004c4a-6104-4faf-9f4e-74e094ad2963",
   "metadata": {},
   "outputs": [],
   "source": [
    "HashSet<Integer> numbers = new HashSet<Integer>();"
   ]
  },
  {
   "cell_type": "code",
   "execution_count": 4,
   "id": "e07c4fab-90b5-4722-ac60-9cd1f4d5436f",
   "metadata": {},
   "outputs": [
    {
     "data": {
      "text/plain": [
       "true"
      ]
     },
     "execution_count": 4,
     "metadata": {},
     "output_type": "execute_result"
    }
   ],
   "source": [
    "numbers.add(100);\n",
    "numbers.add(200);\n",
    "numbers.add(300);\n",
    "numbers.add(400);"
   ]
  },
  {
   "cell_type": "code",
   "execution_count": 7,
   "id": "bcdecf07-96af-4e0e-a2f6-28a1c0bbaf98",
   "metadata": {},
   "outputs": [],
   "source": [
    "Iterator<Integer> iterate = numbers.iterator();"
   ]
  },
  {
   "cell_type": "code",
   "execution_count": 8,
   "id": "e39be583-98db-4218-8dcb-c2accb66ceec",
   "metadata": {},
   "outputs": [
    {
     "name": "stdout",
     "output_type": "stream",
     "text": [
      "400,\n",
      "100,\n",
      "200,\n",
      "300,\n"
     ]
    }
   ],
   "source": [
    "while(iterate.hasNext()){\n",
    "    System.out.println(iterate.next()+ \",\");\n",
    "}"
   ]
  },
  {
   "cell_type": "code",
   "execution_count": 9,
   "id": "343333e1-b386-4b26-8d49-bb2a4863e0ee",
   "metadata": {},
   "outputs": [
    {
     "data": {
      "text/plain": [
       "[400, 100, 200]"
      ]
     },
     "execution_count": 9,
     "metadata": {},
     "output_type": "execute_result"
    }
   ],
   "source": [
    "numbers.remove(300);\n",
    "numbers"
   ]
  },
  {
   "cell_type": "code",
   "execution_count": 11,
   "id": "35614083-3f3c-4d7f-bc1f-1b064987087a",
   "metadata": {},
   "outputs": [
    {
     "data": {
      "text/plain": [
       "[]"
      ]
     },
     "execution_count": 11,
     "metadata": {},
     "output_type": "execute_result"
    }
   ],
   "source": [
    "numbers.removeAll(numbers);\n",
    "numbers"
   ]
  },
  {
   "cell_type": "code",
   "execution_count": 21,
   "id": "03e8c22d-2224-4913-a69d-f96072a843a9",
   "metadata": {},
   "outputs": [
    {
     "data": {
      "text/plain": [
       "true"
      ]
     },
     "execution_count": 21,
     "metadata": {},
     "output_type": "execute_result"
    }
   ],
   "source": [
    "HashSet<Integer> set1 = new HashSet<Integer>();\n",
    "set1.add(100);\n",
    "set1.add(200);\n",
    "set1.add(300);\n",
    "set1.add(400);"
   ]
  },
  {
   "cell_type": "code",
   "execution_count": 22,
   "id": "3e0bab3d-f8f4-42b5-adcc-32be73fb5104",
   "metadata": {},
   "outputs": [
    {
     "data": {
      "text/plain": [
       "true"
      ]
     },
     "execution_count": 22,
     "metadata": {},
     "output_type": "execute_result"
    }
   ],
   "source": [
    "HashSet<Integer> set2 = new HashSet<Integer>();\n",
    "set2.add(200);\n",
    "set2.add(300);\n",
    "set2.add(400);\n",
    "set2.add(500);"
   ]
  },
  {
   "cell_type": "code",
   "execution_count": 15,
   "id": "3b437b56-4651-4064-8228-4185fbbcecb9",
   "metadata": {},
   "outputs": [
    {
     "data": {
      "text/plain": [
       "[400, 100, 500, 200, 300]"
      ]
     },
     "execution_count": 15,
     "metadata": {},
     "output_type": "execute_result"
    }
   ],
   "source": [
    "set1.addAll(set2);\n",
    "\n",
    "set1"
   ]
  },
  {
   "cell_type": "code",
   "execution_count": 19,
   "id": "4e9126d3-ad7d-493a-9b37-89f53469e712",
   "metadata": {},
   "outputs": [
    {
     "data": {
      "text/plain": [
       "[400, 200, 300]"
      ]
     },
     "execution_count": 19,
     "metadata": {},
     "output_type": "execute_result"
    }
   ],
   "source": [
    "set1.retainAll(set2);\n",
    "set1"
   ]
  },
  {
   "cell_type": "code",
   "execution_count": 23,
   "id": "4053fbd1-379d-4986-b602-4597689bbbe9",
   "metadata": {},
   "outputs": [
    {
     "data": {
      "text/plain": [
       "[100]"
      ]
     },
     "execution_count": 23,
     "metadata": {},
     "output_type": "execute_result"
    }
   ],
   "source": [
    "set1.removeAll(set2);\n",
    "set1"
   ]
  },
  {
   "cell_type": "code",
   "execution_count": null,
   "id": "a906002c-4fd4-4053-8c91-769678d2175d",
   "metadata": {},
   "outputs": [],
   "source": []
  }
 ],
 "metadata": {
  "kernelspec": {
   "display_name": "Java",
   "language": "java",
   "name": "java"
  },
  "language_info": {
   "codemirror_mode": "java",
   "file_extension": ".jshell",
   "mimetype": "text/x-java-source",
   "name": "Java",
   "pygments_lexer": "java",
   "version": "11.0.26+4-post-Ubuntu-1ubuntu124.04"
  }
 },
 "nbformat": 4,
 "nbformat_minor": 5
}
