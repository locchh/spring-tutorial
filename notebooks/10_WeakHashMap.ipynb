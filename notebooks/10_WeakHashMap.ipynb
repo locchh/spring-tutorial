{
 "cells": [
  {
   "cell_type": "markdown",
   "id": "3c7b6319-236c-46ce-b426-0b1e172c0433",
   "metadata": {},
   "source": [
    "### WeakHashMap\n",
    "\n",
    "WeakHashMap is a Hash table based implementation of the Map inteface, with weak keys\n",
    "\n",
    "Here's a table of the **`WeakHashMap`** methods in Java, similar to `LinkedHashMap`, but tailored for its specific behavior with weak references.\n",
    "\n",
    "---\n",
    "\n",
    "### 📘 Table: `WeakHashMap` Methods in Java\n",
    "\n",
    "| **Category**         | **Method**                                           | **Description**                                                                                      |\n",
    "| -------------------- | ---------------------------------------------------- | ---------------------------------------------------------------------------------------------------- |\n",
    "| **Creation**         | `WeakHashMap()`                                      | Constructs a new empty map with default capacity and load factor.                                    |\n",
    "|                      | `WeakHashMap(int initialCapacity)`                   | Creates map with given capacity.                                                                     |\n",
    "|                      | `WeakHashMap(int initialCapacity, float loadFactor)` | With capacity and load factor.                                                                       |\n",
    "|                      | `WeakHashMap(Map<? extends K, ? extends V> m)`       | Copies all mappings from the given map.                                                              |\n",
    "| **Basic Operations** | `put(K key, V value)`                                | Adds a key-value pair. If key is weakly referenced and garbage-collected, the entry will be removed. |\n",
    "|                      | `get(Object key)`                                    | Retrieves value for a key.                                                                           |\n",
    "|                      | `remove(Object key)`                                 | Removes the mapping for a key.                                                                       |\n",
    "|                      | `containsKey(Object key)`                            | Checks if the map contains the key.                                                                  |\n",
    "|                      | `containsValue(Object value)`                        | Checks if the map contains the value.                                                                |\n",
    "|                      | `size()`                                             | Returns the number of mappings.                                                                      |\n",
    "|                      | `isEmpty()`                                          | Checks if the map is empty.                                                                          |\n",
    "| **Iteration**        | `keySet()`                                           | Returns a `Set` view of the keys.                                                                    |\n",
    "|                      | `values()`                                           | Returns a `Collection` view of the values.                                                           |\n",
    "|                      | `entrySet()`                                         | Returns a `Set` of the key-value mappings.                                                           |\n",
    "| **Advanced**         | `clear()`                                            | Removes all mappings.                                                                                |\n",
    "|                      | `putAll(Map<? extends K, ? extends V>)`              | Copies all mappings from another map.                                                                |\n",
    "|                      | `replace(K key, V value)`                            | Replaces the value for the key if present.                                                           |\n",
    "|                      | `compute()`, `merge()`, `forEach()`                  | Java 8+ functional-style utilities.                                                                  |\n",
    "\n",
    "---\n",
    "\n",
    "### 🔍 Special Behavior of `WeakHashMap`:\n",
    "\n",
    "* Keys are stored using **weak references**.\n",
    "* If no strong references to a key exist outside the map, the garbage collector can reclaim the key and automatically remove the entry.\n",
    "* Ideal for caches and memory-sensitive maps."
   ]
  },
  {
   "cell_type": "code",
   "execution_count": 1,
   "id": "96bd7b81-fd2a-43a9-bdfb-0fbdb5572f8a",
   "metadata": {},
   "outputs": [],
   "source": [
    "import java.util.WeakHashMap;"
   ]
  },
  {
   "cell_type": "code",
   "execution_count": 2,
   "id": "7548b3a9-7c2c-46b3-baad-f0c4189ebf00",
   "metadata": {},
   "outputs": [],
   "source": [
    "WeakHashMap<String, Integer> numbers = new WeakHashMap<String, Integer>();"
   ]
  },
  {
   "cell_type": "code",
   "execution_count": 4,
   "id": "9a9607fd-18b6-4f71-bdf6-f7dbc271f74b",
   "metadata": {},
   "outputs": [
    {
     "data": {
      "text/plain": [
       "{THREE=3, TWO=2, ONE=1}"
      ]
     },
     "execution_count": 4,
     "metadata": {},
     "output_type": "execute_result"
    }
   ],
   "source": [
    "numbers.put(\"ONE\",1);\n",
    "numbers.put(\"TWO\",2);\n",
    "numbers.put(\"THREE\",3);\n",
    "\n",
    "numbers"
   ]
  },
  {
   "cell_type": "code",
   "execution_count": 5,
   "id": "42c32989-4d26-4467-84c1-fd740fca55a0",
   "metadata": {},
   "outputs": [
    {
     "data": {
      "text/plain": [
       "{FOUR=4, THREE=3, TWO=2, ONE=1}"
      ]
     },
     "execution_count": 5,
     "metadata": {},
     "output_type": "execute_result"
    }
   ],
   "source": [
    "String four = new String(\"FOUR\");\n",
    "Integer fourValue = 4;\n",
    "\n",
    "numbers.put(four, fourValue);\n",
    "\n",
    "numbers"
   ]
  },
  {
   "cell_type": "code",
   "execution_count": 6,
   "id": "2dcf2932-fd37-4fa6-9493-db32dbf51ae3",
   "metadata": {},
   "outputs": [
    {
     "name": "stdout",
     "output_type": "stream",
     "text": [
      "{THREE=3, TWO=2, ONE=1}\n"
     ]
    }
   ],
   "source": [
    "four = null;\n",
    "\n",
    "System.gc();\n",
    "\n",
    "System.out.println(numbers);"
   ]
  },
  {
   "cell_type": "code",
   "execution_count": null,
   "id": "2c1bdfdd-5290-4875-844c-9f53701a2c09",
   "metadata": {},
   "outputs": [],
   "source": []
  }
 ],
 "metadata": {
  "kernelspec": {
   "display_name": "Java",
   "language": "java",
   "name": "java"
  },
  "language_info": {
   "codemirror_mode": "java",
   "file_extension": ".jshell",
   "mimetype": "text/x-java-source",
   "name": "Java",
   "pygments_lexer": "java",
   "version": "11.0.26+4-post-Ubuntu-1ubuntu124.04"
  }
 },
 "nbformat": 4,
 "nbformat_minor": 5
}
