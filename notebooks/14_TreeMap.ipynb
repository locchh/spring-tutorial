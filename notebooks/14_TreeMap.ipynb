{
 "cells": [
  {
   "cell_type": "markdown",
   "id": "3cbd1196-9b24-4928-aaf9-e9b639d2f107",
   "metadata": {},
   "source": [
    "### TreeMap\n",
    "\n",
    "Java TreeMap class is a red-black tree based implementation\n",
    "\n",
    "Here's a table summarizing the most commonly used methods of the `TreeMap` class in Java. `TreeMap` is part of the `java.util` package and implements the `NavigableMap` interface, which extends `SortedMap` and `Map`.\n",
    "\n",
    "| **Method**                    | **Description**                                                                                             |\n",
    "| ----------------------------- | ----------------------------------------------------------------------------------------------------------- |\n",
    "| `put(K key, V value)`         | Adds a key-value pair to the map.                                                                           |\n",
    "| `get(Object key)`             | Returns the value associated with the specified key.                                                        |\n",
    "| `remove(Object key)`          | Removes the mapping for the specified key.                                                                  |\n",
    "| `clear()`                     | Removes all mappings from the map.                                                                          |\n",
    "| `containsKey(Object key)`     | Checks if the map contains the specified key.                                                               |\n",
    "| `containsValue(Object value)` | Checks if the map contains the specified value.                                                             |\n",
    "| `isEmpty()`                   | Returns `true` if the map contains no key-value mappings.                                                   |\n",
    "| `size()`                      | Returns the number of key-value mappings.                                                                   |\n",
    "| `firstKey()`                  | Returns the first (lowest) key currently in the map.                                                        |\n",
    "| `lastKey()`                   | Returns the last (highest) key currently in the map.                                                        |\n",
    "| `headMap(K toKey)`            | Returns a view of the portion of the map whose keys are strictly less than `toKey`.                         |\n",
    "| `tailMap(K fromKey)`          | Returns a view of the portion of the map whose keys are greater than or equal to `fromKey`.                 |\n",
    "| `subMap(K fromKey, K toKey)`  | Returns a view of the portion of the map whose keys range from `fromKey`, inclusive, to `toKey`, exclusive. |\n",
    "| `keySet()`                    | Returns a `Set` view of the keys.                                                                           |\n",
    "| `values()`                    | Returns a `Collection` view of the values.                                                                  |\n",
    "| `entrySet()`                  | Returns a `Set` view of the mappings (entries).                                                             |\n",
    "| `ceilingKey(K key)`           | Returns the least key ≥ given key, or `null` if no such key.                                                |\n",
    "| `floorKey(K key)`             | Returns the greatest key ≤ given key, or `null` if no such key.                                             |\n",
    "| `higherKey(K key)`            | Returns the least key strictly greater than given key.                                                      |\n",
    "| `lowerKey(K key)`             | Returns the greatest key strictly less than given key.                                                      |\n",
    "| `pollFirstEntry()`            | Removes and returns the first (lowest) key-value mapping.                                                   |\n",
    "| `pollLastEntry()`             | Removes and returns the last (highest) key-value mapping.                                                   |\n",
    "| `descendingMap()`             | Returns a reverse-order view of the mappings.                                                               |"
   ]
  },
  {
   "cell_type": "code",
   "execution_count": 1,
   "id": "bc9f3771-8eb0-4fd2-b7bc-22f4c49125ee",
   "metadata": {},
   "outputs": [],
   "source": [
    "import java.util.TreeMap;"
   ]
  },
  {
   "cell_type": "code",
   "execution_count": 2,
   "id": "86318ac0-8842-4451-baf6-5b7a4efaecc2",
   "metadata": {},
   "outputs": [],
   "source": [
    "TreeMap<String, Integer> numbers = new TreeMap<String, Integer>();"
   ]
  },
  {
   "cell_type": "code",
   "execution_count": 3,
   "id": "a3f54f45-0b22-4cff-8b87-26b7681d9fe0",
   "metadata": {},
   "outputs": [
    {
     "data": {
      "text/plain": [
       "{ONE=1, TWO=2, Three=3}"
      ]
     },
     "execution_count": 3,
     "metadata": {},
     "output_type": "execute_result"
    }
   ],
   "source": [
    "numbers.put(\"ONE\",1);\n",
    "numbers.put(\"TWO\",2);\n",
    "numbers.put(\"Three\",3);\n",
    "\n",
    "numbers"
   ]
  },
  {
   "cell_type": "code",
   "execution_count": 4,
   "id": "1387380a-db09-47dd-924c-a89ffd0dca0b",
   "metadata": {},
   "outputs": [
    {
     "data": {
      "text/plain": [
       "{FOUR=4, ONE=1, TWO=2, Three=3}"
      ]
     },
     "execution_count": 4,
     "metadata": {},
     "output_type": "execute_result"
    }
   ],
   "source": [
    "numbers.putIfAbsent(\"Three\",3);\n",
    "numbers.putIfAbsent(\"FOUR\",4);\n",
    "\n",
    "numbers"
   ]
  },
  {
   "cell_type": "code",
   "execution_count": 5,
   "id": "8ae139b6-25bc-4c1a-8108-e7b2204f49f3",
   "metadata": {},
   "outputs": [
    {
     "data": {
      "text/plain": [
       "[FOUR, ONE, TWO, Three]"
      ]
     },
     "execution_count": 5,
     "metadata": {},
     "output_type": "execute_result"
    }
   ],
   "source": [
    "numbers.keySet();"
   ]
  },
  {
   "cell_type": "code",
   "execution_count": 6,
   "id": "d830b637-ac69-47f4-ae2b-b3cff835a31d",
   "metadata": {},
   "outputs": [
    {
     "data": {
      "text/plain": [
       "[4, 1, 2, 3]"
      ]
     },
     "execution_count": 6,
     "metadata": {},
     "output_type": "execute_result"
    }
   ],
   "source": [
    "numbers.values();"
   ]
  },
  {
   "cell_type": "code",
   "execution_count": 7,
   "id": "65294f93-369e-40d9-b560-f340a6550daf",
   "metadata": {},
   "outputs": [
    {
     "data": {
      "text/plain": [
       "[FOUR=4, ONE=1, TWO=2, Three=3]"
      ]
     },
     "execution_count": 7,
     "metadata": {},
     "output_type": "execute_result"
    }
   ],
   "source": [
    "numbers.entrySet();"
   ]
  },
  {
   "cell_type": "markdown",
   "id": "1ed019a7-da7e-4369-965f-687116bc905a",
   "metadata": {},
   "source": [
    "**Java Map Interface**\n",
    "\n",
    "The map interface is present in java.util package represents a mapping between a key and a value. The Map interface is not a subtype of the Collection interface. Therefore it behaves a bit differently from the rest of the collection types. A map contains unique keys.\n",
    "\n",
    "[Read more](https://www.geeksforgeeks.org/map-interface-java-examples/)\n",
    "\n",
    "**Java HashMap**\n",
    "\n",
    "Java HashMap class implements the Map interface which allows us to store key and value pair, where keys should be unique. If you try to insert the duplicate key, it will replace the element of the corresponding key. It is easy to perform operations using the key index like updation, deletion, etc. HashMap class is found in the java.util package.\n",
    "\n",
    "HashMap in Java is like the legacy Hashtable class, but it is not synchronized. It allows us to store the null elements as well, but there should be only one null key. Since Java 5, it is denoted as HashMap<K,V>, where K stands for key and V for value. It inherits the AbstractMap class and implements the Map interface.\n",
    "\n",
    "[Read more](https://www.geeksforgeeks.org/java-hashmap/)\n",
    "\n",
    "**Java Linked HashMap**\n",
    "\n",
    "The LinkedHashMap Class is just like HashMap with an additional feature of maintaining an order of elements inserted into it. HashMap provided the advantage of quick insertion, search, and deletion but it never maintained the track and order of insertion, which the LinkedHashMap provides where the elements can be accessed in their insertion order. \n",
    "\n",
    "[Read more](https://www.geeksforgeeks.org/linkedhashmap-class-in-java/)\n",
    "\n",
    "**Java Weak HashMap**\n",
    "\n",
    "WeakHashMap is an implementation of the Map interface that stores only weak references to its keys. Storing only weak references allows a key-value pair to be garbage-collected when its key is no longer referenced outside of the WeakHashMap.\n",
    "\n",
    "This class provides the easiest way to harness the power of weak references. It is useful for implementing \"registry-like\" data structures, where the utility of an entry vanishes when its key is no longer reachable by any thread.\n",
    "\n",
    "The WeakHashMap functions identically to the HashMap with one very important exception: if the Java memory manager no longer has a strong reference to the object specified as a key, then the entry in the map will be removed.\n",
    "\n",
    "[Read more](https://www.tutorialspoint.com/java/java_weakhashmap_class.htm)\n",
    "\n",
    "**Java EnumMap**\n",
    "\n",
    "EnumMap is a specialized implementation of the Map interface for enumeration types. It extends AbstractMap and implements the Map interface in Java. It belongs to java.util package. \n",
    "\n",
    "[Read more](https://www.geeksforgeeks.org/enummap-class-java-example/)\n",
    "\n",
    "**Java SortedMap Interface**\n",
    "\n",
    "SortedMap is an interface in the collection framework. This interface extends the Map interface and provides a total ordering of its elements (elements can be traversed in sorted order of keys). The class that implements this interface is TreeMap.\n",
    "\n",
    "The SortedMap interface is a subinterface of the java.util.Map interface in Java. It extends the Map interface to provide a total ordering of its elements, based on the natural order of its keys.\n",
    "\n",
    "The main difference between a SortedMap and a regular Map is that the elements in a SortedMap are stored in a sorted order, whereas in a Map the elements are stored in an arbitrary order. The sorting order is determined by the natural order of the keys, which must implement the java.lang.Comparable interface, or by a Comparator passed to the SortedMap’s constructor.\n",
    "\n",
    "[Read more](https://www.geeksforgeeks.org/sortedmap-java-examples/)\n",
    "\n",
    "**Java NavigableMap Interface**\n",
    "\n",
    "The NavigableMap interface is a member of the Java Collection Framework. It belongs to java.util package and It is an extension of SortedMap which provides convenient navigation methods like lowerKey, floorKey, ceilingKey and higherKey, and along with this popular navigation method. It also provide ways to create a Sub Map from existing Map in Java e.g. headMap whose keys are less than the specified key, tailMap whose keys are greater than the specified key, and a subMap which strictly contains keys which fall between toKey and fromKey. \n",
    "\n",
    "[Read more](https://www.geeksforgeeks.org/navigablemap-interface-in-java-with-example/)\n",
    "\n",
    "**Java TreeMap**\n",
    "\n",
    "The TreeMap in Java is used to implement Map interface and NavigableMap along with the AbstractMap Class. The map is sorted according to the natural ordering of its keys, or by a Comparator provided at map creation time, depending on which constructor is used. This proves to be an efficient way of sorting and storing the key-value pairs. The storing order maintained by the treemap must be consistent with equals just like any other sorted map, irrespective of the explicit comparators. The treemap implementation is not synchronized in the sense that if a map is accessed by multiple threads, concurrently and at least one of the threads modifies the map structurally, it must be synchronized externally. \n",
    "\n",
    "[Read more](https://www.geeksforgeeks.org/treemap-in-java/)\n",
    "\n",
    "**Java ConcurrentHashMap**\n",
    "\n",
    "The ConcurrentHashMap class is introduced in JDK 1.5 belongs to java.util.concurrent package, which implements ConcurrentMap as well as to Serializable interface also. ConcurrentHashMap is an enhancement of HashMap as we know that while dealing with Threads in our application HashMap is not a good choice because performance-wise HashMap is not up to the mark.\n",
    "\n",
    "ConcurrentHashMap is a thread-safe implementation of the Map interface in Java, which means multiple threads can access it simultaneously without any synchronization issues. It’s part of the java.util.concurrent package and was introduced in Java 5 as a scalable alternative to the traditional HashMap class.\n",
    "\n",
    "[Read more](https://www.geeksforgeeks.org/concurrenthashmap-in-java/)\n"
   ]
  },
  {
   "cell_type": "code",
   "execution_count": null,
   "id": "a1f7a57d-fee6-4a73-bd83-f50eb7d6764b",
   "metadata": {},
   "outputs": [],
   "source": []
  }
 ],
 "metadata": {
  "kernelspec": {
   "display_name": "Java",
   "language": "java",
   "name": "java"
  },
  "language_info": {
   "codemirror_mode": "java",
   "file_extension": ".jshell",
   "mimetype": "text/x-java-source",
   "name": "Java",
   "pygments_lexer": "java",
   "version": "11.0.26+4-post-Ubuntu-1ubuntu124.04"
  }
 },
 "nbformat": 4,
 "nbformat_minor": 5
}
