{
 "cells": [
  {
   "cell_type": "markdown",
   "id": "57e0baff-7d70-4e2d-a2fb-8a29fa41deb6",
   "metadata": {},
   "source": [
    "### NavigableSet\n",
    "\n",
    "The NavigableSet interface inherits from the SortedSet interface.\n",
    "\n",
    "Here’s a table of commonly used methods in Java’s `NavigableSet` interface (extends `SortedSet`, implemented by `TreeSet`):\n",
    "\n",
    "| **Method**                                                         | **Description**                                                                       |\n",
    "| ------------------------------------------------------------------ | ------------------------------------------------------------------------------------- |\n",
    "| `lower(E e)`                                                       | Returns the greatest element **less than** `e`, or `null` if none.                    |\n",
    "| `floor(E e)`                                                       | Returns the greatest element **less than or equal to** `e`, or `null` if none.        |\n",
    "| `ceiling(E e)`                                                     | Returns the least element **greater than or equal to** `e`, or `null` if none.        |\n",
    "| `higher(E e)`                                                      | Returns the least element **greater than** `e`, or `null` if none.                    |\n",
    "| `pollFirst()`                                                      | Removes and returns the **first (lowest)** element, or `null` if empty.               |\n",
    "| `pollLast()`                                                       | Removes and returns the **last (highest)** element, or `null` if empty.               |\n",
    "| `descendingSet()`                                                  | Returns a reverse order view of the elements.                                         |\n",
    "| `descendingIterator()`                                             | Returns an iterator over the elements in reverse order.                               |\n",
    "| `subSet(E from, boolean fromInclusive, E to, boolean toInclusive)` | Returns a view between two elements with control over inclusivity.                    |\n",
    "| `headSet(E toElement, boolean inclusive)`                          | Returns a view of elements **less than (or equal to if inclusive)** `toElement`.      |\n",
    "| `tailSet(E fromElement, boolean inclusive)`                        | Returns a view of elements **greater than (or equal to if inclusive)** `fromElement`. |\n",
    "| `add(E e)`                                                         | Adds the specified element.                                                           |\n",
    "| `remove(Object o)`                                                 | Removes the specified element.                                                        |\n",
    "| `contains(Object o)`                                               | Returns `true` if the set contains the element.                                       |\n",
    "| `size()`                                                           | Returns the number of elements.                                                       |\n",
    "| `clear()`                                                          | Removes all elements.                                                                 |\n",
    "\n",
    "### Key Benefit:\n",
    "\n",
    "`NavigableSet` adds **navigation methods** to `SortedSet`, giving fine-grained control over element retrieval and views."
   ]
  },
  {
   "cell_type": "code",
   "execution_count": 1,
   "id": "38f45fb7-eeff-42ab-8f98-645fc2d0730a",
   "metadata": {},
   "outputs": [],
   "source": [
    "import java.util.NavigableSet;\n",
    "import java.util.TreeSet;"
   ]
  },
  {
   "cell_type": "code",
   "execution_count": 2,
   "id": "72bfc012-3351-42a3-bc00-23d443788cb2",
   "metadata": {},
   "outputs": [],
   "source": [
    "NavigableSet<Integer> set = new TreeSet<Integer>();"
   ]
  },
  {
   "cell_type": "code",
   "execution_count": 3,
   "id": "08ed4a3d-8bdc-4b39-8e53-c33495f1990d",
   "metadata": {},
   "outputs": [
    {
     "data": {
      "text/plain": [
       "true"
      ]
     },
     "execution_count": 3,
     "metadata": {},
     "output_type": "execute_result"
    }
   ],
   "source": [
    "set.add(10);\n",
    "set.add(20);\n",
    "set.add(30);\n",
    "set.add(40);\n",
    "set.add(50);"
   ]
  },
  {
   "cell_type": "code",
   "execution_count": 4,
   "id": "9ac52fdd-f743-4d6f-bc9b-2d9a6694c064",
   "metadata": {},
   "outputs": [],
   "source": [
    "NavigableSet<Integer> reversedSet = set.descendingSet();"
   ]
  },
  {
   "cell_type": "code",
   "execution_count": 5,
   "id": "c261db0d-653d-4362-bd5b-c04646e9af57",
   "metadata": {},
   "outputs": [
    {
     "data": {
      "text/plain": [
       "[10, 20, 30, 40, 50]"
      ]
     },
     "execution_count": 5,
     "metadata": {},
     "output_type": "execute_result"
    }
   ],
   "source": [
    "set"
   ]
  },
  {
   "cell_type": "code",
   "execution_count": 6,
   "id": "7b23577a-6aed-4f7a-819f-b1e65e4c2fee",
   "metadata": {},
   "outputs": [
    {
     "data": {
      "text/plain": [
       "[50, 40, 30, 20, 10]"
      ]
     },
     "execution_count": 6,
     "metadata": {},
     "output_type": "execute_result"
    }
   ],
   "source": [
    "reversedSet"
   ]
  },
  {
   "cell_type": "code",
   "execution_count": 7,
   "id": "c2e25847-e39f-479a-9f4e-e72cc3d96484",
   "metadata": {},
   "outputs": [],
   "source": [
    "NavigableSet<Integer> threeOrMore = set.tailSet(3, true);"
   ]
  },
  {
   "cell_type": "code",
   "execution_count": 8,
   "id": "050ef88c-0337-4fc7-a9a0-6d9f416ec4c8",
   "metadata": {},
   "outputs": [
    {
     "data": {
      "text/plain": [
       "[10, 20, 30, 40, 50]"
      ]
     },
     "execution_count": 8,
     "metadata": {},
     "output_type": "execute_result"
    }
   ],
   "source": [
    "threeOrMore"
   ]
  },
  {
   "cell_type": "code",
   "execution_count": 9,
   "id": "57ed8903-3f70-4b71-8725-6a42ecb3e705",
   "metadata": {},
   "outputs": [],
   "source": [
    "set.lower(3);"
   ]
  },
  {
   "cell_type": "code",
   "execution_count": 10,
   "id": "007e02c7-6e95-40fc-9b87-63cdfa914014",
   "metadata": {},
   "outputs": [
    {
     "data": {
      "text/plain": [
       "[20, 30, 40, 50]"
      ]
     },
     "execution_count": 10,
     "metadata": {},
     "output_type": "execute_result"
    }
   ],
   "source": [
    "set.pollFirst();\n",
    "\n",
    "set"
   ]
  },
  {
   "cell_type": "code",
   "execution_count": 11,
   "id": "357bbe90-23d0-40ff-9c6b-68a7c129cba2",
   "metadata": {},
   "outputs": [
    {
     "data": {
      "text/plain": [
       "[20, 30, 40]"
      ]
     },
     "execution_count": 11,
     "metadata": {},
     "output_type": "execute_result"
    }
   ],
   "source": [
    "set.pollLast();\n",
    "\n",
    "set"
   ]
  },
  {
   "cell_type": "code",
   "execution_count": 12,
   "id": "a767ff67-94ad-44ee-9c2d-36a9b2f586de",
   "metadata": {},
   "outputs": [
    {
     "data": {
      "text/plain": [
       "20"
      ]
     },
     "execution_count": 12,
     "metadata": {},
     "output_type": "execute_result"
    }
   ],
   "source": [
    "set.first();"
   ]
  },
  {
   "cell_type": "code",
   "execution_count": null,
   "id": "1097c2f9-0762-4aad-b406-5d385133c622",
   "metadata": {},
   "outputs": [],
   "source": []
  }
 ],
 "metadata": {
  "kernelspec": {
   "display_name": "Java",
   "language": "java",
   "name": "java"
  },
  "language_info": {
   "codemirror_mode": "java",
   "file_extension": ".jshell",
   "mimetype": "text/x-java-source",
   "name": "Java",
   "pygments_lexer": "java",
   "version": "11.0.26+4-post-Ubuntu-1ubuntu124.04"
  }
 },
 "nbformat": 4,
 "nbformat_minor": 5
}
