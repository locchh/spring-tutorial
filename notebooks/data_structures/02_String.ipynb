{
 "cells": [
  {
   "cell_type": "markdown",
   "id": "d64aa5e3-fa18-4135-abdd-6867e80c3fbb",
   "metadata": {},
   "source": [
    "## String\n",
    "\n",
    "```java\n",
    "String myString = \"Hello World!\";\n",
    "```\n",
    "\n",
    "Type of Strings\n",
    "- Immutable String (`String` class)\n",
    "- Mutable String  ( `StringBuilder` class)"
   ]
  },
  {
   "cell_type": "markdown",
   "id": "f0f17a06-6057-455a-8ddc-970cbb225420",
   "metadata": {},
   "source": [
    "### How to create a String object?"
   ]
  },
  {
   "cell_type": "markdown",
   "id": "5b817aa6-854f-4472-bb5a-a6dc6f208fe0",
   "metadata": {},
   "source": [
    "By String Literal"
   ]
  },
  {
   "cell_type": "code",
   "execution_count": 1,
   "id": "04dca775-14cd-4148-b95b-7a0f9395bb5c",
   "metadata": {},
   "outputs": [],
   "source": [
    "String s = \"ScholarHat\";"
   ]
  },
  {
   "cell_type": "code",
   "execution_count": 2,
   "id": "446b74f3-6431-49b4-a7d9-23a717e305e4",
   "metadata": {},
   "outputs": [
    {
     "data": {
      "text/plain": [
       "ScholarHat"
      ]
     },
     "execution_count": 2,
     "metadata": {},
     "output_type": "execute_result"
    }
   ],
   "source": [
    "s"
   ]
  },
  {
   "cell_type": "markdown",
   "id": "cd403469-00a9-4eb1-9d4c-4218314ea44f",
   "metadata": {},
   "source": [
    "By `new` Keyword"
   ]
  },
  {
   "cell_type": "code",
   "execution_count": 3,
   "id": "a950b01f-03fe-42b6-8e3c-66f7784e8714",
   "metadata": {},
   "outputs": [],
   "source": [
    "// All the string objects created with the help of\n",
    "// new keyword at allocated space in the heap memory \n",
    "String s = new String(\"ScholarHat\");"
   ]
  },
  {
   "cell_type": "code",
   "execution_count": 4,
   "id": "3c0038b3-6a87-4056-88a0-95847008034f",
   "metadata": {},
   "outputs": [
    {
     "data": {
      "text/plain": [
       "ScholarHat"
      ]
     },
     "execution_count": 4,
     "metadata": {},
     "output_type": "execute_result"
    }
   ],
   "source": [
    "s"
   ]
  },
  {
   "cell_type": "markdown",
   "id": "dcc90381-444f-44f3-ae20-7598b73a3617",
   "metadata": {},
   "source": [
    "### String Manipulation\n",
    "\n",
    "| Method                     | Description                                              | Example                                                                 |\n",
    "|-----------------------------|----------------------------------------------------------|-------------------------------------------------------------------------|\n",
    "| `length()`                  | Returns the length of the string                        | `\"Hello\".length()` → `5`                                                |\n",
    "| `charAt(int index)`         | Returns the character at the specified index            | `\"Hello\".charAt(1)` → `'e'`                                             |\n",
    "| `substring(int beginIndex)` | Returns substring from beginIndex to end                | `\"Hello\".substring(2)` → `\"llo\"`                                        |\n",
    "| `substring(int begin, int end)` | Returns substring from begin (inclusive) to end (exclusive) | `\"Hello\".substring(1, 4)` → `\"ell\"`                                   |\n",
    "| `contains(CharSequence s)`  | Checks if string contains a sequence                    | `\"Hello\".contains(\"ll\")` → `true`                                       |\n",
    "| `startsWith(String prefix)` | Checks if string starts with prefix                     | `\"Hello\".startsWith(\"He\")` → `true`                                     |\n",
    "| `endsWith(String suffix)`   | Checks if string ends with suffix                       | `\"Hello\".endsWith(\"lo\")` → `true`                                       |\n",
    "| `indexOf(String str)`       | Returns index of first occurrence of str, or -1 if not found | `\"Hello\".indexOf(\"l\")` → `2`                                        |\n",
    "| `lastIndexOf(String str)`   | Returns index of last occurrence of str, or -1 if not found | `\"Hello\".lastIndexOf(\"l\")` → `3`                                    |\n",
    "| `toLowerCase()`             | Converts all characters to lower case                   | `\"Hello\".toLowerCase()` → `\"hello\"`                                     |\n",
    "| `toUpperCase()`             | Converts all characters to upper case                   | `\"Hello\".toUpperCase()` → `\"HELLO\"`                                     |\n",
    "| `trim()`                    | Removes leading and trailing whitespaces               | `\"  Hello  \".trim()` → `\"Hello\"`                                        |\n",
    "| `replace(char oldChar, char newChar)` | Replaces all oldChar with newChar         | `\"Hello\".replace('l', 'p')` → `\"Heppo\"`                                 |\n",
    "| `replace(CharSequence target, CharSequence replacement)` | Replaces sequence | `\"Hello world\".replace(\"world\", \"Java\")` → `\"Hello Java\"`              |\n",
    "| `equals(Object anObject)`   | Compares strings (case-sensitive)                       | `\"Hello\".equals(\"hello\")` → `false`                                     |\n",
    "| `equalsIgnoreCase(String anotherString)` | Compares strings ignoring case      | `\"Hello\".equalsIgnoreCase(\"hello\")` → `true`                            |\n",
    "| `split(String regex)`       | Splits string around matches of regex                   | `\"a,b,c\".split(\",\")` → `[\"a\", \"b\", \"c\"]`                                |\n",
    "| `isEmpty()`                 | Checks if string length is 0                            | `\"\".isEmpty()` → `true`                                                 |\n",
    "| `join(CharSequence delimiter, CharSequence... elements)` | Joins elements with delimiter | `String.join(\"-\", \"2025\", \"04\", \"28\")` → `\"2025-04-28\"`            |\n",
    "| `matches(String regex)`     | Checks if string matches regex pattern                  | `\"abc123\".matches(\"[a-z]+\\\\d+\")` → `true`                               |\n",
    "| `compareTo(String anotherString)` | Lexicographically compares two strings          | `\"apple\".compareTo(\"banana\")` → Negative number (`-1`)                 |\n",
    "| `format(String format, Object... args)` | Returns formatted string              | `String.format(\"Age: %d\", 30)` → `\"Age: 30\"`                            |\n",
    "| `repeat(int count)`         | Repeats the string count times (Java 11+)               | `\"Hi\".repeat(3)` → `\"HiHiHi\"`                                           |"
   ]
  },
  {
   "cell_type": "code",
   "execution_count": 6,
   "id": "0ae2ca71-f4a7-4291-878c-b601ad3f3368",
   "metadata": {},
   "outputs": [
    {
     "name": "stdout",
     "output_type": "stream",
     "text": [
      "Hello \n"
     ]
    }
   ],
   "source": [
    "String str1 = \"Hello \";\n",
    "System.out.println(str1)"
   ]
  },
  {
   "cell_type": "code",
   "execution_count": 7,
   "id": "0c0e3331-bb01-4dd7-882c-b455d9401624",
   "metadata": {},
   "outputs": [
    {
     "name": "stdout",
     "output_type": "stream",
     "text": [
      "World\n"
     ]
    }
   ],
   "source": [
    "String str2 = new String(\"World\");\n",
    "System.out.println(str2)"
   ]
  },
  {
   "cell_type": "code",
   "execution_count": 8,
   "id": "0a684f69-e30e-4063-8d29-70223d509c5c",
   "metadata": {},
   "outputs": [
    {
     "data": {
      "text/plain": [
       "Hello World"
      ]
     },
     "execution_count": 8,
     "metadata": {},
     "output_type": "execute_result"
    }
   ],
   "source": [
    "//Concatenating String Literal and String object\n",
    "String str3 = str1 + str2;\n",
    "str3"
   ]
  },
  {
   "cell_type": "code",
   "execution_count": 10,
   "id": "de3d9861-cb42-4464-ab8d-408e67ea402e",
   "metadata": {},
   "outputs": [
    {
     "data": {
      "text/plain": [
       "11"
      ]
     },
     "execution_count": 10,
     "metadata": {},
     "output_type": "execute_result"
    }
   ],
   "source": [
    "str3.length()"
   ]
  },
  {
   "cell_type": "code",
   "execution_count": 11,
   "id": "ea0d8725-01d6-4405-b456-f99c555936bf",
   "metadata": {},
   "outputs": [
    {
     "data": {
      "text/plain": [
       "H"
      ]
     },
     "execution_count": 11,
     "metadata": {},
     "output_type": "execute_result"
    }
   ],
   "source": [
    "str3.charAt(0);"
   ]
  },
  {
   "cell_type": "code",
   "execution_count": 12,
   "id": "11c382d5-d6ec-4899-8ef8-8e333e28aaa1",
   "metadata": {},
   "outputs": [
    {
     "data": {
      "text/plain": [
       "Hello World"
      ]
     },
     "execution_count": 12,
     "metadata": {},
     "output_type": "execute_result"
    }
   ],
   "source": [
    "str1.concat(str2);"
   ]
  },
  {
   "cell_type": "code",
   "execution_count": 13,
   "id": "2a11085b-2b67-4ba6-bcfa-b8438cb6c4e6",
   "metadata": {},
   "outputs": [
    {
     "data": {
      "text/plain": [
       "Hello"
      ]
     },
     "execution_count": 13,
     "metadata": {},
     "output_type": "execute_result"
    }
   ],
   "source": [
    "str3.substring(0, 5);"
   ]
  },
  {
   "cell_type": "code",
   "execution_count": 15,
   "id": "3729875a-f1ba-4d1d-be39-4bdb48068507",
   "metadata": {},
   "outputs": [
    {
     "data": {
      "text/plain": [
       "false"
      ]
     },
     "execution_count": 15,
     "metadata": {},
     "output_type": "execute_result"
    }
   ],
   "source": [
    "str1.equals(str2);"
   ]
  },
  {
   "cell_type": "code",
   "execution_count": 16,
   "id": "60de99cf-066e-4aff-8a1d-218dbd501f14",
   "metadata": {},
   "outputs": [
    {
     "data": {
      "text/plain": [
       "true"
      ]
     },
     "execution_count": 16,
     "metadata": {},
     "output_type": "execute_result"
    }
   ],
   "source": [
    "str3.contains(\"Hello\");"
   ]
  },
  {
   "cell_type": "code",
   "execution_count": 17,
   "id": "dffdbde7-1874-4ecb-857a-3a84ef178af9",
   "metadata": {},
   "outputs": [
    {
     "data": {
      "text/plain": [
       "hello world"
      ]
     },
     "execution_count": 17,
     "metadata": {},
     "output_type": "execute_result"
    }
   ],
   "source": [
    "str3.toLowerCase();"
   ]
  },
  {
   "cell_type": "code",
   "execution_count": 18,
   "id": "9f5dc01f-a0e6-43aa-883c-77c922463ba5",
   "metadata": {},
   "outputs": [
    {
     "data": {
      "text/plain": [
       "HELLO WORLD"
      ]
     },
     "execution_count": 18,
     "metadata": {},
     "output_type": "execute_result"
    }
   ],
   "source": [
    "str3.toUpperCase();"
   ]
  },
  {
   "cell_type": "code",
   "execution_count": 19,
   "id": "d12e35f9-d4fe-4ce7-b95a-9476e9d8ffea",
   "metadata": {},
   "outputs": [
    {
     "data": {
      "text/plain": [
       "Hello World"
      ]
     },
     "execution_count": 19,
     "metadata": {},
     "output_type": "execute_result"
    }
   ],
   "source": [
    "str3.trim();"
   ]
  },
  {
   "cell_type": "markdown",
   "id": "3a7ad143-3716-48ac-9a6c-a43a5ddd9b5f",
   "metadata": {},
   "source": [
    "### StringBuffer Methods\n",
    "\n",
    "| Method | Description | Example |\n",
    "|:------|:------------|:--------|\n",
    "| `append(String str)` | Appends the given string to the end of this buffer. | `new StringBuffer(\"Hello\").append(\" World\") // \"Hello World\"` |\n",
    "| `insert(int offset, String str)` | Inserts the given string at the specified position. | `new StringBuffer(\"Hello\").insert(5, \" World\") // \"Hello World\"` |\n",
    "| `replace(int start, int end, String str)` | Replaces characters between `start` and `end` with the given string. | `new StringBuffer(\"Hello World\").replace(6, 11, \"Java\") // \"Hello Java\"` |\n",
    "| `delete(int start, int end)` | Deletes characters between `start` and `end`. | `new StringBuffer(\"Hello World\").delete(5, 11) // \"Hello\"` |\n",
    "| `deleteCharAt(int index)` | Deletes the character at the specified index. | `new StringBuffer(\"Hello\").deleteCharAt(1) // \"Hllo\"` |\n",
    "| `reverse()` | Reverses the characters in the buffer. | `new StringBuffer(\"Hello\").reverse() // \"olleH\"` |\n",
    "| `setCharAt(int index, char ch)` | Sets the character at the specified index. | `StringBuffer sb = new StringBuffer(\"Hello\"); sb.setCharAt(1, 'a'); // \"Hallo\"` |\n",
    "| `charAt(int index)` | Returns the character at the specified index. | `new StringBuffer(\"Hello\").charAt(1) // 'e'` |\n",
    "| `substring(int start)` | Returns a substring starting from `start` to end. | `new StringBuffer(\"Hello World\").substring(6) // \"World\"` |\n",
    "| `substring(int start, int end)` | Returns a substring between `start` and `end`. | `new StringBuffer(\"Hello World\").substring(0, 5) // \"Hello\"` |\n",
    "| `length()` | Returns the number of characters in the buffer. | `new StringBuffer(\"Hello\").length() // 5` |\n",
    "| `capacity()` | Returns the current capacity of the buffer. | `new StringBuffer().capacity() // 16 (default)` |\n",
    "| `ensureCapacity(int minimumCapacity)` | Ensures that the capacity is at least the specified minimum. | `StringBuffer sb = new StringBuffer(); sb.ensureCapacity(50);` |\n",
    "| `setLength(int newLength)` | Sets the length of the buffer (can truncate or expand). | `StringBuffer sb = new StringBuffer(\"Hello\"); sb.setLength(3); // \"Hel\"` |\n",
    "| `toString()` | Converts the buffer to a `String`. | `new StringBuffer(\"Hello\").toString() // \"Hello\"` |"
   ]
  },
  {
   "cell_type": "code",
   "execution_count": 20,
   "id": "3670b2bc-966c-4675-802a-12dcbc82005c",
   "metadata": {},
   "outputs": [],
   "source": [
    "import java.lang.StringBuffer"
   ]
  },
  {
   "cell_type": "code",
   "execution_count": 21,
   "id": "1df0f149-7998-4bfb-972b-601b5dfa9e49",
   "metadata": {},
   "outputs": [],
   "source": [
    "StringBuffer  buffer = new StringBuffer(\"Hello \");"
   ]
  },
  {
   "cell_type": "code",
   "execution_count": 22,
   "id": "ac8f003c-5946-4c14-acc6-438e556d391e",
   "metadata": {},
   "outputs": [
    {
     "data": {
      "text/plain": [
       "Hello World"
      ]
     },
     "execution_count": 22,
     "metadata": {},
     "output_type": "execute_result"
    }
   ],
   "source": [
    "buffer.append(\"World\");"
   ]
  },
  {
   "cell_type": "code",
   "execution_count": 31,
   "id": "760ed3df-6c1e-4334-bab9-0aa4249e044b",
   "metadata": {},
   "outputs": [
    {
     "name": "stdout",
     "output_type": "stream",
     "text": [
      "Time Taken By StringBuffer: 90\n"
     ]
    }
   ],
   "source": [
    "long startTime = System.currentTimeMillis();\n",
    "\n",
    "for(int i=0;i<10000;i++){\n",
    "    buffer.append(\"World\");\n",
    "}\n",
    "\n",
    "System.out.println(\"Time Taken By StringBuffer: \" + (System.currentTimeMillis() - startTime));"
   ]
  },
  {
   "cell_type": "markdown",
   "id": "c50c0d10-441a-4bfa-b07b-0b03000293b9",
   "metadata": {},
   "source": [
    "### StringBuilder Methods\n",
    "\n",
    "| Method                         | Description                                                           | Example |\n",
    "|---------------------------------|-----------------------------------------------------------------------|---------|\n",
    "| `append(String str)`            | Appends the specified string to this sequence.                       | `sb.append(\"world\");` → `\"Helloworld\"` |\n",
    "| `insert(int offset, String str)`| Inserts the string into this sequence at the specified position.     | `sb.insert(5, \" brave\");` → `\"Hello brave world\"` |\n",
    "| `replace(int start, int end, String str)`| Replaces the characters between start and end with the given string. | `sb.replace(6, 11, \"good\");` → `\"Hello good world\"` |\n",
    "| `delete(int start, int end)`    | Removes the characters between start and end indexes.                | `sb.delete(5, 11);` → `\"Helloworld\"` |\n",
    "| `deleteCharAt(int index)`       | Removes the character at the specified position.                     | `sb.deleteCharAt(5);` → `\"Hellworld\"` |\n",
    "| `reverse()`                     | Reverses the sequence.                                                | `sb.reverse();` → `\"dlrow olleH\"` |\n",
    "| `length()`                      | Returns the current length of the sequence.                          | `int len = sb.length();` |\n",
    "| `charAt(int index)`             | Returns the character at the specified index.                        | `char c = sb.charAt(1); // 'e'` |\n",
    "| `setCharAt(int index, char ch)` | Sets the character at the specified index.                           | `sb.setCharAt(0, 'h');` → `\"hello world\"` |\n",
    "| `toString()`                    | Converts the `StringBuilder` to a `String`.                           | `String s = sb.toString();` |\n",
    "| `capacity()`                    | Returns the current capacity (storage) of the builder.               | `int cap = sb.capacity();` |\n",
    "| `ensureCapacity(int minimumCapacity)` | Ensures that the capacity is at least equal to the specified minimum. | `sb.ensureCapacity(50);` |\n",
    "| `trimToSize()`                  | Reduces the capacity to match the current length.                    | `sb.trimToSize();` |\n"
   ]
  },
  {
   "cell_type": "code",
   "execution_count": 23,
   "id": "ee4905a4-f4d9-4459-96fb-51e437b416af",
   "metadata": {},
   "outputs": [],
   "source": [
    "import java.lang.StringBuilder"
   ]
  },
  {
   "cell_type": "code",
   "execution_count": 27,
   "id": "e49a6f5e-a8db-4a1b-9b18-c29b360672aa",
   "metadata": {},
   "outputs": [
    {
     "name": "stdout",
     "output_type": "stream",
     "text": [
      "22\n"
     ]
    }
   ],
   "source": [
    "StringBuilder builder = new StringBuilder(\"Hello \");\n",
    "System.out.println(builder.capacity());"
   ]
  },
  {
   "cell_type": "code",
   "execution_count": 28,
   "id": "484b66d7-5182-417c-b989-94b998e0e880",
   "metadata": {},
   "outputs": [
    {
     "data": {
      "text/plain": [
       "Hello World"
      ]
     },
     "execution_count": 28,
     "metadata": {},
     "output_type": "execute_result"
    }
   ],
   "source": [
    "builder.append(\"World\");"
   ]
  },
  {
   "cell_type": "code",
   "execution_count": 33,
   "id": "2f61118d-6d0d-4cd3-8e30-cd73c9e7dedf",
   "metadata": {},
   "outputs": [
    {
     "name": "stdout",
     "output_type": "stream",
     "text": [
      "Time Taken By StringBuilder: 56\n"
     ]
    }
   ],
   "source": [
    "long startTime = System.currentTimeMillis();\n",
    "\n",
    "for(int i=0;i<10000;i++){\n",
    "    builder.append(\"World\");\n",
    "}\n",
    "\n",
    "System.out.println(\"Time Taken By StringBuilder: \" + (System.currentTimeMillis() - startTime));"
   ]
  },
  {
   "cell_type": "markdown",
   "id": "ae02de24-5faa-41d5-a310-2cc2835a3bfd",
   "metadata": {},
   "source": [
    "**Note**\n",
    "\n",
    "`StringBuffer` is thread-safe, while `StringBuilder` is not thread-safe."
   ]
  },
  {
   "cell_type": "code",
   "execution_count": null,
   "id": "5442a294-94c0-4b7f-84a3-1ae2af1e52a7",
   "metadata": {},
   "outputs": [],
   "source": []
  }
 ],
 "metadata": {
  "kernelspec": {
   "display_name": "Java",
   "language": "java",
   "name": "java"
  },
  "language_info": {
   "codemirror_mode": "java",
   "file_extension": ".jshell",
   "mimetype": "text/x-java-source",
   "name": "Java",
   "pygments_lexer": "java",
   "version": "11.0.26+4-post-Ubuntu-1ubuntu124.04"
  }
 },
 "nbformat": 4,
 "nbformat_minor": 5
}
