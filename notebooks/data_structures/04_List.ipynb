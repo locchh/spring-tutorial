{
 "cells": [
  {
   "cell_type": "markdown",
   "id": "2801cefb-44c3-491d-be3f-38fbd47df973",
   "metadata": {},
   "source": [
    "### List Interface"
   ]
  },
  {
   "cell_type": "code",
   "execution_count": 1,
   "id": "3599e2e9-6df9-4035-ad30-7b3c4bc86364",
   "metadata": {},
   "outputs": [],
   "source": [
    "import java.util.List;"
   ]
  },
  {
   "cell_type": "code",
   "execution_count": 3,
   "id": "3ba1eee4-bf11-44d6-a25d-279f3c38a46b",
   "metadata": {},
   "outputs": [],
   "source": [
    "List<Integer> linkedList = new LinkedList<Integer>();\n",
    "\n",
    "List<Integer> arrayList = new ArrayList<Integer>();\n",
    "\n",
    "List<Integer> vectors = new Vector<Integer>();"
   ]
  },
  {
   "cell_type": "markdown",
   "id": "59d6809e-ac07-456e-8901-f2cdafee944a",
   "metadata": {},
   "source": [
    "### ArrayList\n",
    "\n",
    "dynamically increase or decrease its size\n",
    "\n",
    "| **Method** | **Description** | **Example** |\n",
    "|:-----------|:----------------|:------------|\n",
    "| `add(E e)` | Adds an element to the end of the list. | `list.add(\"Apple\");` |\n",
    "| `add(int index, E element)` | Inserts an element at a specific index. | `list.add(1, \"Banana\");` |\n",
    "| `get(int index)` | Retrieves the element at the specified position. | `String fruit = list.get(0);` |\n",
    "| `set(int index, E element)` | Replaces the element at the specified position with another element. | `list.set(0, \"Cherry\");` |\n",
    "| `remove(int index)` | Removes the element at the specified index. | `list.remove(1);` |\n",
    "| `remove(Object o)` | Removes the first occurrence of the specified element. | `list.remove(\"Apple\");` |\n",
    "| `size()` | Returns the number of elements in the list. | `int count = list.size();` |\n",
    "| `isEmpty()` | Checks if the list is empty. | `boolean empty = list.isEmpty();` |\n",
    "| `clear()` | Removes all elements from the list. | `list.clear();` |\n",
    "| `contains(Object o)` | Checks if the list contains the specified element. | `boolean hasApple = list.contains(\"Apple\");` |\n",
    "| `indexOf(Object o)` | Returns the index of the first occurrence of the element, or -1 if not found. | `int index = list.indexOf(\"Banana\");` |\n",
    "| `lastIndexOf(Object o)` | Returns the index of the last occurrence of the element, or -1 if not found. | `int lastIndex = list.lastIndexOf(\"Apple\");` |\n",
    "| `toArray()` | Converts the list to an array. | `Object[] arr = list.toArray();` |\n",
    "| `subList(int fromIndex, int toIndex)` | Returns a view of the portion of the list between `fromIndex` and `toIndex`. | `List<String> sub = list.subList(1, 3);` |\n",
    "| `ensureCapacity(int minCapacity)` | Increases the capacity of the list (optimization). | `list.ensureCapacity(100);` |\n",
    "| `trimToSize()` | Reduces the size of the list’s capacity to its current size. | `list.trimToSize();` |\n",
    "| `iterator()` | Returns an iterator over the list. | `Iterator<String> it = list.iterator();` |\n",
    "| `forEach(Consumer action)` | Performs an action for each element. (Java 8+) | `list.forEach(System.out::println);` |\n",
    "| `stream()` | Returns a sequential Stream with this collection as its source. (Java 8+) | `list.stream().forEach(System.out::println);` |"
   ]
  },
  {
   "cell_type": "code",
   "execution_count": 7,
   "id": "894c737b-0eef-4cc9-84e4-2465dfb4f2dc",
   "metadata": {},
   "outputs": [],
   "source": [
    "import java.util.ArrayList;"
   ]
  },
  {
   "cell_type": "code",
   "execution_count": 8,
   "id": "ec5241be-f6f0-49f9-8fd3-00dab45982e0",
   "metadata": {},
   "outputs": [],
   "source": [
    "List<String> list = new ArrayList<String>();"
   ]
  },
  {
   "cell_type": "code",
   "execution_count": 9,
   "id": "2884375f-941f-4837-9a1a-e95972d647b3",
   "metadata": {},
   "outputs": [
    {
     "data": {
      "text/plain": [
       "true"
      ]
     },
     "execution_count": 9,
     "metadata": {},
     "output_type": "execute_result"
    }
   ],
   "source": [
    "list.add(\"King\");\n",
    "list.add(\"Shreya\");\n",
    "list.add(\"Sarah\");"
   ]
  },
  {
   "cell_type": "code",
   "execution_count": 10,
   "id": "729d44b5-afc7-42fd-83f2-dcbc0c9cec09",
   "metadata": {},
   "outputs": [
    {
     "name": "stdout",
     "output_type": "stream",
     "text": [
      "[King, Shreya, Sarah]\n"
     ]
    }
   ],
   "source": [
    "System.out.println(list);"
   ]
  },
  {
   "cell_type": "code",
   "execution_count": 12,
   "id": "97a3a4a1-0797-41c7-9c2a-cd60c4e3f68c",
   "metadata": {},
   "outputs": [
    {
     "name": "stdout",
     "output_type": "stream",
     "text": [
      "King\n",
      "Shreya\n",
      "Sarah\n"
     ]
    }
   ],
   "source": [
    "for(String e: list){\n",
    "    System.out.println(e);\n",
    "}"
   ]
  },
  {
   "cell_type": "code",
   "execution_count": 13,
   "id": "11c7c987-e3f0-4a5b-8f88-e57f0fb1f43a",
   "metadata": {},
   "outputs": [
    {
     "name": "stdout",
     "output_type": "stream",
     "text": [
      "Size of ArrayList: 3\n"
     ]
    }
   ],
   "source": [
    "System.out.println(\"Size of ArrayList: \" + list.size());"
   ]
  },
  {
   "cell_type": "code",
   "execution_count": 14,
   "id": "6e739b8f-4fba-452c-ae5a-2858769f1c00",
   "metadata": {},
   "outputs": [
    {
     "name": "stdout",
     "output_type": "stream",
     "text": [
      "[Shreya, Sarah]\n"
     ]
    }
   ],
   "source": [
    "list.remove(0);\n",
    "\n",
    "System.out.println(list);"
   ]
  },
  {
   "cell_type": "markdown",
   "id": "7987834c-3671-40ff-9335-8e4d6281a472",
   "metadata": {},
   "source": [
    "### LinkedList\n",
    "\n",
    "| **Method** | **Description** | **Example** |\n",
    "|:-----------|:----------------|:------------|\n",
    "| `add(E e)` | Adds an element to the end of the list. | `list.add(\"Apple\");` |\n",
    "| `add(int index, E element)` | Inserts an element at a specific position. | `list.add(1, \"Banana\");` |\n",
    "| `addFirst(E e)` | Inserts the element at the beginning of the list. | `list.addFirst(\"Cherry\");` |\n",
    "| `addLast(E e)` | Appends the element to the end of the list. | `list.addLast(\"Date\");` |\n",
    "| `get(int index)` | Returns the element at the specified position. | `String fruit = list.get(0);` |\n",
    "| `getFirst()` | Returns the first element. | `String first = list.getFirst();` |\n",
    "| `getLast()` | Returns the last element. | `String last = list.getLast();` |\n",
    "| `set(int index, E element)` | Replaces the element at the specified position. | `list.set(0, \"Elderberry\");` |\n",
    "| `remove(int index)` | Removes the element at the specified position. | `list.remove(1);` |\n",
    "| `removeFirst()` | Removes and returns the first element. | `String removed = list.removeFirst();` |\n",
    "| `removeLast()` | Removes and returns the last element. | `String removed = list.removeLast();` |\n",
    "| `remove(Object o)` | Removes the first occurrence of the specified element. | `list.remove(\"Apple\");` |\n",
    "| `offer(E e)` | Adds an element at the end (returns `true` if successful). | `list.offer(\"Fig\");` |\n",
    "| `offerFirst(E e)` | Adds an element at the beginning. | `list.offerFirst(\"Grape\");` |\n",
    "| `offerLast(E e)` | Adds an element at the end. | `list.offerLast(\"Honeydew\");` |\n",
    "| `poll()` | Retrieves and removes the head (first element), or returns `null` if empty. | `String head = list.poll();` |\n",
    "| `pollFirst()` | Retrieves and removes the first element, or returns `null` if empty. | `String first = list.pollFirst();` |\n",
    "| `pollLast()` | Retrieves and removes the last element, or returns `null` if empty. | `String last = list.pollLast();` |\n",
    "| `peek()` | Retrieves, but does not remove, the head (first element), or returns `null` if empty. | `String head = list.peek();` |\n",
    "| `peekFirst()` | Retrieves but does not remove the first element. | `String first = list.peekFirst();` |\n",
    "| `peekLast()` | Retrieves but does not remove the last element. | `String last = list.peekLast();` |\n",
    "| `contains(Object o)` | Checks if the list contains the specified element. | `boolean found = list.contains(\"Apple\");` |\n",
    "| `size()` | Returns the number of elements in the list. | `int size = list.size();` |\n",
    "| `isEmpty()` | Checks if the list is empty. | `boolean empty = list.isEmpty();` |\n",
    "| `clear()` | Removes all elements from the list. | `list.clear();` |\n",
    "| `iterator()` | Returns an iterator over the list. | `Iterator<String> it = list.iterator();` |\n",
    "| `descendingIterator()` | Returns an iterator that traverses the list in reverse order. | `Iterator<String> descIt = list.descendingIterator();` |\n"
   ]
  },
  {
   "cell_type": "code",
   "execution_count": 16,
   "id": "0fb9e3cd-8540-48cf-9962-50796e1f6208",
   "metadata": {},
   "outputs": [],
   "source": [
    "LinkedList<String> linkedList = new LinkedList<String>();"
   ]
  },
  {
   "cell_type": "code",
   "execution_count": 17,
   "id": "84e37f34-ebac-4dd0-95fd-0a18cabd4032",
   "metadata": {},
   "outputs": [
    {
     "data": {
      "text/plain": [
       "0"
      ]
     },
     "execution_count": 17,
     "metadata": {},
     "output_type": "execute_result"
    }
   ],
   "source": [
    "linkedList.size();"
   ]
  },
  {
   "cell_type": "code",
   "execution_count": 18,
   "id": "dfae78b2-a3d9-4507-969a-c17345ea0472",
   "metadata": {},
   "outputs": [
    {
     "data": {
      "text/plain": [
       "true"
      ]
     },
     "execution_count": 18,
     "metadata": {},
     "output_type": "execute_result"
    }
   ],
   "source": [
    "linkedList.add(\"Java\");\n",
    "linkedList.add(\"Python\");\n",
    "linkedList.add(\"JavaScript\");\n",
    "linkedList.add(\"C#\");"
   ]
  },
  {
   "cell_type": "code",
   "execution_count": 20,
   "id": "b6e1610a-b3e7-4da9-b422-4c54ac202b3c",
   "metadata": {},
   "outputs": [
    {
     "name": "stdout",
     "output_type": "stream",
     "text": [
      "[Java, Python, JavaScript, C#]\n"
     ]
    }
   ],
   "source": [
    "System.out.println(linkedList);"
   ]
  },
  {
   "cell_type": "code",
   "execution_count": 21,
   "id": "7925d1fe-2b93-492a-9114-9d485db5d3ad",
   "metadata": {},
   "outputs": [
    {
     "name": "stdout",
     "output_type": "stream",
     "text": [
      "[Java, Python, C++, JavaScript, C#]\n"
     ]
    }
   ],
   "source": [
    "linkedList.add(2,\"C++\");\n",
    "System.out.println(linkedList);"
   ]
  },
  {
   "cell_type": "code",
   "execution_count": 22,
   "id": "df076b7f-6848-4855-8bd1-cc560eef5c18",
   "metadata": {},
   "outputs": [
    {
     "name": "stdout",
     "output_type": "stream",
     "text": [
      "[Python, C++, JavaScript, C#]\n"
     ]
    }
   ],
   "source": [
    "linkedList.remove(0);\n",
    "System.out.println(linkedList);"
   ]
  },
  {
   "cell_type": "code",
   "execution_count": 23,
   "id": "8bdf836d-4540-4e3f-b512-32be9c45b087",
   "metadata": {},
   "outputs": [
    {
     "name": "stdout",
     "output_type": "stream",
     "text": [
      "[Python, C++, C#]\n"
     ]
    }
   ],
   "source": [
    "linkedList.remove(\"JavaScript\");\n",
    "System.out.println(linkedList);"
   ]
  },
  {
   "cell_type": "markdown",
   "id": "04dad83b-2a50-4a84-8883-59f263cf2cf7",
   "metadata": {},
   "source": [
    "### Vector\n",
    "\n",
    "Vector is like the dynamic array which can grow or shrink its size\n",
    "\n",
    "| **Method** | **Description** | **Example** |\n",
    "|:-----------|:----------------|:------------|\n",
    "| `add(E e)` | Adds an element to the end of the vector. | `vector.add(\"Apple\");` |\n",
    "| `add(int index, E element)` | Inserts an element at a specific index. | `vector.add(1, \"Banana\");` |\n",
    "| `addElement(E obj)` | Adds an element to the end (older method). | `vector.addElement(\"Cherry\");` |\n",
    "| `get(int index)` | Retrieves the element at the specified position. | `String fruit = vector.get(0);` |\n",
    "| `set(int index, E element)` | Replaces the element at the specified index. | `vector.set(0, \"Orange\");` |\n",
    "| `setElementAt(E obj, int index)` | Sets the element at the specified index (older method). | `vector.setElementAt(\"Grape\", 1);` |\n",
    "| `remove(int index)` | Removes the element at the specified index. | `vector.remove(1);` |\n",
    "| `remove(Object o)` | Removes the first occurrence of the specified object. | `vector.remove(\"Apple\");` |\n",
    "| `removeElement(Object obj)` | Removes the first occurrence (older method). | `vector.removeElement(\"Banana\");` |\n",
    "| `removeAllElements()` | Removes all elements from the vector. | `vector.removeAllElements();` |\n",
    "| `size()` | Returns the number of elements. | `int count = vector.size();` |\n",
    "| `capacity()` | Returns the current capacity of the vector. | `int cap = vector.capacity();` |\n",
    "| `isEmpty()` | Checks if the vector has no elements. | `boolean empty = vector.isEmpty();` |\n",
    "| `contains(Object o)` | Checks if the vector contains the specified object. | `boolean hasApple = vector.contains(\"Apple\");` |\n",
    "| `indexOf(Object o)` | Returns the first index of the object, or -1. | `int index = vector.indexOf(\"Banana\");` |\n",
    "| `lastIndexOf(Object o)` | Returns the last index of the object, or -1. | `int lastIndex = vector.lastIndexOf(\"Apple\");` |\n",
    "| `toArray()` | Converts the vector to an array. | `Object[] arr = vector.toArray();` |\n",
    "| `firstElement()` | Returns the first element. | `String first = vector.firstElement();` |\n",
    "| `lastElement()` | Returns the last element. | `String last = vector.lastElement();` |\n",
    "| `elementAt(int index)` | Returns the element at the specified index (older method). | `String item = vector.elementAt(0);` |\n",
    "| `ensureCapacity(int minCapacity)` | Increases capacity if needed. | `vector.ensureCapacity(50);` |\n",
    "| `trimToSize()` | Trims the capacity to the size. | `vector.trimToSize();` |\n",
    "| `iterator()` | Returns an iterator over the vector. | `Iterator<String> it = vector.iterator();` |\n",
    "| `elements()` | Returns an enumeration of the elements (older style). | `Enumeration<String> e = vector.elements();` |"
   ]
  },
  {
   "cell_type": "code",
   "execution_count": 25,
   "id": "19bc93e9-fa1e-4471-bb83-b7026f0e68dc",
   "metadata": {},
   "outputs": [],
   "source": [
    "Vector<String> vector = new Vector<String>();"
   ]
  },
  {
   "cell_type": "code",
   "execution_count": 26,
   "id": "aeefa61f-c960-413b-8917-295822f5f5a9",
   "metadata": {},
   "outputs": [
    {
     "name": "stdout",
     "output_type": "stream",
     "text": [
      "[Programming, Networking, Database, Deployment, Cloud Services]\n"
     ]
    }
   ],
   "source": [
    "vector.add(\"Programming\");\n",
    "vector.add(\"Networking\");\n",
    "vector.add(\"Database\");\n",
    "vector.add(\"Deployment\");\n",
    "vector.add(\"Cloud Services\");\n",
    "\n",
    "System.out.println(vector);"
   ]
  },
  {
   "cell_type": "code",
   "execution_count": 27,
   "id": "684e7d51-e67a-4e87-a8a4-81988cf7700e",
   "metadata": {},
   "outputs": [
    {
     "name": "stdout",
     "output_type": "stream",
     "text": [
      "5\n"
     ]
    }
   ],
   "source": [
    "System.out.println(vector.size());"
   ]
  },
  {
   "cell_type": "code",
   "execution_count": 28,
   "id": "05f3efd3-b6e8-4529-a59f-39f37a8350d1",
   "metadata": {},
   "outputs": [
    {
     "name": "stdout",
     "output_type": "stream",
     "text": [
      "4\n"
     ]
    }
   ],
   "source": [
    "vector.remove(0);\n",
    "System.out.println(vector.size());"
   ]
  },
  {
   "cell_type": "code",
   "execution_count": 29,
   "id": "8efce996-51f3-4181-a282-99b9ea744fb3",
   "metadata": {},
   "outputs": [
    {
     "name": "stdout",
     "output_type": "stream",
     "text": [
      "0\n"
     ]
    }
   ],
   "source": [
    "vector.clear();\n",
    "System.out.println(vector.size());"
   ]
  },
  {
   "cell_type": "markdown",
   "id": "6073195b-90fa-44d9-91df-89188e359399",
   "metadata": {},
   "source": [
    "| Feature                        | ArrayList                             | LinkedList                            | Vector                                  |\n",
    "|---------------------------------|---------------------------------------|---------------------------------------|----------------------------------------|\n",
    "| **Package**                    | `java.util`                          | `java.util`                          | `java.util`                           |\n",
    "| **Underlying Data Structure**  | Dynamic array                        | Doubly linked list                   | Dynamic array                         |\n",
    "| **Performance - Access**       | Fast (O(1))                          | Slow (O(n))                          | Fast (O(1))                           |\n",
    "| **Performance - Insert/Delete**| Slow (O(n))                          | Fast (O(1)) if at ends (head/tail)    | Slow (O(n))                           |\n",
    "| **Thread-Safety**              | Not synchronized (not thread-safe)   | Not synchronized (not thread-safe)   | Synchronized (thread-safe)            |\n",
    "| **Growable?**                  | Yes, grows by 50% when full           | Yes, grows dynamically               | Yes, doubles capacity when full       |\n",
    "| **Iterator Type**              | Fail-fast                            | Fail-fast                            | Fail-fast (after Java 1.2)             |\n",
    "| **Memory Usage**               | Less memory overhead (compact)       | More memory overhead (node pointers) | More memory overhead (synchronization)|\n",
    "| **Preferred Use Case**         | Frequent access/read operations      | Frequent insert/delete operations    | Thread-safe, legacy code              |\n",
    "| **Introduced in**              | Java 1.2                             | Java 1.2                             | Java 1.0                              |\n",
    "\n",
    "---\n",
    "### Quick Summary:\n",
    "- **Use `ArrayList`** when you mostly need **fast random access** and **rare insertions/deletions**.\n",
    "- **Use `LinkedList`** when you mostly do **frequent insertions or deletions**, especially at the beginning/middle.\n",
    "- **Use `Vector`** when you **must** have **thread-safety** and are dealing with **legacy code** (otherwise prefer `ArrayList` with external synchronization)."
   ]
  },
  {
   "cell_type": "code",
   "execution_count": null,
   "id": "ce375fba-5751-4bd2-aed8-8da8fc25abaa",
   "metadata": {},
   "outputs": [],
   "source": []
  }
 ],
 "metadata": {
  "kernelspec": {
   "display_name": "Java",
   "language": "java",
   "name": "java"
  },
  "language_info": {
   "codemirror_mode": "java",
   "file_extension": ".jshell",
   "mimetype": "text/x-java-source",
   "name": "Java",
   "pygments_lexer": "java",
   "version": "11.0.26+4-post-Ubuntu-1ubuntu124.04"
  }
 },
 "nbformat": 4,
 "nbformat_minor": 5
}
