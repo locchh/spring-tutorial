{
 "cells": [
  {
   "cell_type": "markdown",
   "id": "00e5d004-8ede-4e5f-acc8-9ea68ff22caa",
   "metadata": {},
   "source": [
    "### SortedMap\n",
    "\n",
    "SortedMap is an interface in Java that is a subinterface of the Map interface.\n",
    "\n",
    "Here's a summary table of the **key methods of the `SortedMap` interface** in Java:\n",
    "\n",
    "\n",
    "| **Method**                                   | **Description**                                                               |\n",
    "| -------------------------------------------- | ----------------------------------------------------------------------------- |\n",
    "| `Comparator<? super K> comparator()`         | Returns the comparator used to order the keys, or `null` if natural ordering. |\n",
    "| `K firstKey()`                               | Returns the first (lowest) key.                                               |\n",
    "| `K lastKey()`                                | Returns the last (highest) key.                                               |\n",
    "| `SortedMap<K, V> headMap(K toKey)`           | Returns a view of the map whose keys are strictly less than `toKey`.          |\n",
    "| `SortedMap<K, V> tailMap(K fromKey)`         | Returns a view of the map whose keys are greater than or equal to `fromKey`.  |\n",
    "| `SortedMap<K, V> subMap(K fromKey, K toKey)` | Returns a view of the map from `fromKey`, inclusive, to `toKey`, exclusive.   |\n",
    "| `Set<K> keySet()`                            | Returns a `Set` view of the keys.                                             |\n",
    "| `Collection<V> values()`                     | Returns a `Collection` view of the values.                                    |\n",
    "| `Set<Map.Entry<K, V>> entrySet()`            | Returns a `Set` view of the mappings.                                         |\n",
    "| `V get(Object key)`                          | Returns the value associated with the key.                                    |\n",
    "| `V put(K key, V value)`                      | Associates the value with the key.                                            |\n",
    "\n",
    "---\n",
    "\n",
    "#### 📝 Notes:\n",
    "\n",
    "* **`SortedMap`** is a subinterface of `Map` and is implemented by **`TreeMap`**.\n",
    "* Keys in a `SortedMap` are **always in sorted order**.\n",
    "* Sorting is done by **natural order** (via `Comparable`) or a custom `Comparator`."
   ]
  },
  {
   "cell_type": "code",
   "execution_count": 1,
   "id": "0307878a-43e7-4e3c-a74d-371c7c357c0b",
   "metadata": {},
   "outputs": [],
   "source": [
    "import java.util.SortedMap;"
   ]
  },
  {
   "cell_type": "code",
   "execution_count": 3,
   "id": "2fe3c9ec-cf3a-42a8-8822-8fe1dfdd0d08",
   "metadata": {},
   "outputs": [],
   "source": [
    "SortedMap<String, Integer> numbers = new TreeMap<String, Integer>();"
   ]
  },
  {
   "cell_type": "code",
   "execution_count": 4,
   "id": "60d4bfc5-ec86-4c96-b282-63ed25f968cb",
   "metadata": {},
   "outputs": [
    {
     "data": {
      "text/plain": [
       "{One=1, Three=3, Two=2}"
      ]
     },
     "execution_count": 4,
     "metadata": {},
     "output_type": "execute_result"
    }
   ],
   "source": [
    "numbers.put(\"One\",1);\n",
    "numbers.put(\"Two\",2);\n",
    "numbers.put(\"Three\",3);\n",
    "\n",
    "numbers"
   ]
  },
  {
   "cell_type": "code",
   "execution_count": 5,
   "id": "82716650-e438-4841-8725-e1f6b203673f",
   "metadata": {},
   "outputs": [
    {
     "data": {
      "text/plain": [
       "One"
      ]
     },
     "execution_count": 5,
     "metadata": {},
     "output_type": "execute_result"
    }
   ],
   "source": [
    "numbers.firstKey();"
   ]
  },
  {
   "cell_type": "code",
   "execution_count": 6,
   "id": "2d0d9b19-41ed-4725-afaf-9166a018224f",
   "metadata": {},
   "outputs": [
    {
     "data": {
      "text/plain": [
       "Two"
      ]
     },
     "execution_count": 6,
     "metadata": {},
     "output_type": "execute_result"
    }
   ],
   "source": [
    "numbers.lastKey();"
   ]
  },
  {
   "cell_type": "code",
   "execution_count": 7,
   "id": "9575509b-ce9b-49d3-8cf1-64942c009f35",
   "metadata": {},
   "outputs": [
    {
     "data": {
      "text/plain": [
       "{Three=3, Two=2}"
      ]
     },
     "execution_count": 7,
     "metadata": {},
     "output_type": "execute_result"
    }
   ],
   "source": [
    "numbers.remove(\"One\");\n",
    "\n",
    "numbers"
   ]
  },
  {
   "cell_type": "code",
   "execution_count": null,
   "id": "345ac00c-e421-49fc-8d67-c5c53ee35185",
   "metadata": {},
   "outputs": [],
   "source": []
  }
 ],
 "metadata": {
  "kernelspec": {
   "display_name": "Java",
   "language": "java",
   "name": "java"
  },
  "language_info": {
   "codemirror_mode": "java",
   "file_extension": ".jshell",
   "mimetype": "text/x-java-source",
   "name": "Java",
   "pygments_lexer": "java",
   "version": "11.0.26+4-post-Ubuntu-1ubuntu124.04"
  }
 },
 "nbformat": 4,
 "nbformat_minor": 5
}
