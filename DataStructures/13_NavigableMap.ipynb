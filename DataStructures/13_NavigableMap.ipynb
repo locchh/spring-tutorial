{
 "cells": [
  {
   "cell_type": "markdown",
   "id": "dbe4d34d-691d-4918-9757-cad43122cba3",
   "metadata": {},
   "source": [
    "### NavigableMap\n",
    "\n",
    "NavigableMap can be easily accessed and traversed in either ascending or descending key order."
   ]
  },
  {
   "cell_type": "code",
   "execution_count": 1,
   "id": "b73b7692-bde9-456d-b71a-c8bec1280139",
   "metadata": {},
   "outputs": [],
   "source": [
    "import java.util.NavigableMap;"
   ]
  },
  {
   "cell_type": "code",
   "execution_count": 2,
   "id": "0aa89e80-5c57-41a8-a387-5c7bd743074f",
   "metadata": {},
   "outputs": [],
   "source": [
    "NavigableMap<String, Integer> numbers = new TreeMap<String, Integer>();"
   ]
  },
  {
   "cell_type": "code",
   "execution_count": 3,
   "id": "8a440956-bcb5-47c0-bbce-0f04dd8804c1",
   "metadata": {},
   "outputs": [
    {
     "data": {
      "text/plain": [
       "{One=1, Three=3, Two=2}"
      ]
     },
     "execution_count": 3,
     "metadata": {},
     "output_type": "execute_result"
    }
   ],
   "source": [
    "numbers.put(\"One\",1);\n",
    "\n",
    "numbers.put(\"Two\",2);\n",
    "\n",
    "numbers.put(\"Three\",3);\n",
    "\n",
    "numbers"
   ]
  },
  {
   "cell_type": "code",
   "execution_count": 4,
   "id": "456b5b3d-4bf3-4013-8cfe-0425f12ab290",
   "metadata": {},
   "outputs": [
    {
     "data": {
      "text/plain": [
       "One=1"
      ]
     },
     "execution_count": 4,
     "metadata": {},
     "output_type": "execute_result"
    }
   ],
   "source": [
    "numbers.firstEntry();"
   ]
  },
  {
   "cell_type": "code",
   "execution_count": 5,
   "id": "1f805663-0aac-4b07-8746-32c5c9b7b3d6",
   "metadata": {},
   "outputs": [
    {
     "data": {
      "text/plain": [
       "Two=2"
      ]
     },
     "execution_count": 5,
     "metadata": {},
     "output_type": "execute_result"
    }
   ],
   "source": [
    "numbers.lastEntry();"
   ]
  },
  {
   "cell_type": "code",
   "execution_count": 6,
   "id": "a58af78c-bba0-469a-ad0c-f19f82c5da72",
   "metadata": {},
   "outputs": [
    {
     "data": {
      "text/plain": [
       "One=1"
      ]
     },
     "execution_count": 6,
     "metadata": {},
     "output_type": "execute_result"
    }
   ],
   "source": [
    "numbers.pollFirstEntry();"
   ]
  },
  {
   "cell_type": "code",
   "execution_count": 7,
   "id": "303b7922-c339-45e5-af43-4486a9b9602b",
   "metadata": {},
   "outputs": [
    {
     "data": {
      "text/plain": [
       "Two=2"
      ]
     },
     "execution_count": 7,
     "metadata": {},
     "output_type": "execute_result"
    }
   ],
   "source": [
    "numbers.pollLastEntry();"
   ]
  },
  {
   "cell_type": "code",
   "execution_count": null,
   "id": "34d2c488-3c7e-430c-82fc-93307eff2c27",
   "metadata": {},
   "outputs": [],
   "source": []
  }
 ],
 "metadata": {
  "kernelspec": {
   "display_name": "Java",
   "language": "java",
   "name": "java"
  },
  "language_info": {
   "codemirror_mode": "java",
   "file_extension": ".jshell",
   "mimetype": "text/x-java-source",
   "name": "Java",
   "pygments_lexer": "java",
   "version": "11.0.26+4-post-Ubuntu-1ubuntu124.04"
  }
 },
 "nbformat": 4,
 "nbformat_minor": 5
}
