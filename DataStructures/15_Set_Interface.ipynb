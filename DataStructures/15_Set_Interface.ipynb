{
 "cells": [
  {
   "cell_type": "markdown",
   "id": "069223a8-1233-4e4f-90d1-b4cf871588d5",
   "metadata": {},
   "source": [
    "\n",
    "# 📘 Java `Set` Interface and Its Subinterfaces\n",
    "\n",
    "The `Set` interface is part of the **Java Collections Framework**, defined in the `java.util` package. It represents a **collection of unique elements**, with no duplicate entries.\n",
    "\n",
    "## 📦 Import Statement\n",
    "```java\n",
    "import java.util.Set;\n",
    "import java.util.SortedSet;\n",
    "import java.util.NavigableSet;\n",
    "```\n",
    "\n",
    "## 🔑 Key Characteristics of `Set`\n",
    "\n",
    "- **No duplicates** allowed.\n",
    "- At most **one `null` element** (implementation-dependent).\n",
    "- No positional access (unlike `List`).\n",
    "- Different implementations define ordering and performance characteristics.\n",
    "\n",
    "## 🧱 Subinterfaces of Set\n",
    "\n",
    "### 1. `SortedSet<E>` (java.util)\n",
    "- A `Set` that maintains **sorted order**.\n",
    "- Elements must be **Comparable** or provided with a **Comparator**.\n",
    "- Implemented by `TreeSet`.\n",
    "\n",
    "#### Additional Methods:\n",
    "```java\n",
    "SortedSet<E> subSet(E fromElement, E toElement);\n",
    "SortedSet<E> headSet(E toElement);\n",
    "SortedSet<E> tailSet(E fromElement);\n",
    "E first();\n",
    "E last();\n",
    "Comparator<? super E> comparator();\n",
    "```\n",
    "\n",
    "### 2. `NavigableSet<E>` (java.util)\n",
    "- Extends `SortedSet` with **navigation methods**.\n",
    "- Allows searching for closest matches.\n",
    "- Also implemented by `TreeSet`.\n",
    "\n",
    "#### Additional Methods:\n",
    "```java\n",
    "E lower(E e);    // Strictly less than\n",
    "E floor(E e);    // Less than or equal\n",
    "E ceiling(E e);  // Greater than or equal\n",
    "E higher(E e);   // Strictly greater than\n",
    "\n",
    "E pollFirst();   // Retrieves and removes the first (lowest) element\n",
    "E pollLast();    // Retrieves and removes the last (highest) element\n",
    "\n",
    "NavigableSet<E> descendingSet();\n",
    "Iterator<E> descendingIterator();\n",
    "\n",
    "NavigableSet<E> subSet(E fromElement, boolean fromInclusive,\n",
    "                       E toElement, boolean toInclusive);\n",
    "NavigableSet<E> headSet(E toElement, boolean inclusive);\n",
    "NavigableSet<E> tailSet(E fromElement, boolean inclusive);\n",
    "```\n",
    "\n",
    "## 🛠️ Common Methods in `Set` Interface\n",
    "\n",
    "The `Set` interface inherits from `Collection` and includes:\n",
    "\n",
    "```java\n",
    "boolean add(E e);\n",
    "boolean addAll(Collection<? extends E> c);\n",
    "void clear();\n",
    "boolean contains(Object o);\n",
    "boolean containsAll(Collection<?> c);\n",
    "boolean isEmpty();\n",
    "Iterator<E> iterator();\n",
    "boolean remove(Object o);\n",
    "boolean removeAll(Collection<?> c);\n",
    "boolean retainAll(Collection<?> c);\n",
    "int size();\n",
    "Object[] toArray();\n",
    "<T> T[] toArray(T[] a);\n",
    "```\n",
    "\n",
    "## 🧪 Example: TreeSet with NavigableSet\n",
    "\n",
    "```java\n",
    "import java.util.NavigableSet;\n",
    "import java.util.TreeSet;\n",
    "\n",
    "public class NavigableSetExample {\n",
    "    public static void main(String[] args) {\n",
    "        NavigableSet<Integer> nums = new TreeSet<>();\n",
    "        nums.add(10);\n",
    "        nums.add(20);\n",
    "        nums.add(30);\n",
    "        nums.add(40);\n",
    "\n",
    "        System.out.println(\"Lower than 25: \" + nums.lower(25));    // 20\n",
    "        System.out.println(\"Ceiling of 25: \" + nums.ceiling(25));  // 30\n",
    "        System.out.println(\"Descending: \" + nums.descendingSet()); // [40, 30, 20, 10]\n",
    "    }\n",
    "}\n",
    "```\n",
    "\n",
    "## 📚 Summary of Set Implementations\n",
    "\n",
    "| Class                  | Ordered?            | Sorted?     | Thread-Safe | Allows Null |\n",
    "|-----------------------|---------------------|-------------|-------------|-------------|\n",
    "| `HashSet`             | ❌ No               | ❌ No       | ❌ No       | ✅ One      |\n",
    "| `LinkedHashSet`       | ✅ Insertion Order  | ❌ No       | ❌ No       | ✅ One      |\n",
    "| `TreeSet`             | ✅ Sorted           | ✅ Yes      | ❌ No       | ❌ None     |\n",
    "| `CopyOnWriteArraySet` | ✅ Insertion Order  | ❌ No       | ✅ Yes      | ✅ One      |\n",
    "| `EnumSet`             | ✅ Natural Order    | ✅ Yes      | ❌ No       | ❌ None     |\n",
    "\n",
    "## 🧠 When to Use What?\n",
    "\n",
    "- **HashSet**: Best for fast access, no ordering.\n",
    "- **LinkedHashSet**: When you want insertion order preserved.\n",
    "- **TreeSet**: When sorted order matters.\n",
    "- **NavigableSet**: When you need to find neighbors (like floor, ceiling).\n",
    "- **SortedSet**: Basic sorted view, without navigation."
   ]
  },
  {
   "cell_type": "code",
   "execution_count": 6,
   "id": "ed5888c4-bcf4-40c4-8a55-ac822c3558b8",
   "metadata": {},
   "outputs": [],
   "source": [
    "import java.util.HashSet;\n",
    "import java.util.Set;\n",
    "import java.util.Iterator;"
   ]
  },
  {
   "cell_type": "code",
   "execution_count": 2,
   "id": "439ad3a1-bd95-4810-8424-bdc1ef276ed5",
   "metadata": {},
   "outputs": [],
   "source": [
    "Set<Integer> set1 = new HashSet<Integer>();"
   ]
  },
  {
   "cell_type": "code",
   "execution_count": 3,
   "id": "9e5345b3-1f3e-4ebc-b933-64db1a3cf8bb",
   "metadata": {},
   "outputs": [
    {
     "data": {
      "text/plain": [
       "true"
      ]
     },
     "execution_count": 3,
     "metadata": {},
     "output_type": "execute_result"
    }
   ],
   "source": [
    "set1.add(100);\n",
    "set1.add(200);\n",
    "set1.add(300);\n",
    "set1.add(400);"
   ]
  },
  {
   "cell_type": "code",
   "execution_count": 4,
   "id": "4ccdf309-8ee2-425b-b43c-31b067901e95",
   "metadata": {},
   "outputs": [
    {
     "data": {
      "text/plain": [
       "[400, 100, 200, 300]"
      ]
     },
     "execution_count": 4,
     "metadata": {},
     "output_type": "execute_result"
    }
   ],
   "source": [
    "set1"
   ]
  },
  {
   "cell_type": "code",
   "execution_count": 12,
   "id": "049592ba-0fc2-4101-a220-625f7246b6b8",
   "metadata": {},
   "outputs": [],
   "source": [
    "Iterator<Integer> iterate = set1.iterator();"
   ]
  },
  {
   "cell_type": "code",
   "execution_count": 13,
   "id": "7d3d8ab3-f86a-4bac-88d6-489f700c699f",
   "metadata": {},
   "outputs": [
    {
     "name": "stdout",
     "output_type": "stream",
     "text": [
      "400,100,200,300,"
     ]
    }
   ],
   "source": [
    "while(iterate.hasNext()){\n",
    "    System.out.print(iterate.next() + \",\");\n",
    "}"
   ]
  },
  {
   "cell_type": "code",
   "execution_count": null,
   "id": "e629c944-532e-4ec8-874f-5f66682ae432",
   "metadata": {},
   "outputs": [],
   "source": []
  }
 ],
 "metadata": {
  "kernelspec": {
   "display_name": "Java",
   "language": "java",
   "name": "java"
  },
  "language_info": {
   "codemirror_mode": "java",
   "file_extension": ".jshell",
   "mimetype": "text/x-java-source",
   "name": "Java",
   "pygments_lexer": "java",
   "version": "11.0.26+4-post-Ubuntu-1ubuntu124.04"
  }
 },
 "nbformat": 4,
 "nbformat_minor": 5
}
