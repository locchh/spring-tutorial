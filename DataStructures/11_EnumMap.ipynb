{
 "cells": [
  {
   "cell_type": "markdown",
   "id": "1bff375d-43f7-42ff-b022-604b595ea4db",
   "metadata": {},
   "source": [
    "### EnumMap\n",
    "\n",
    "Java EnumMap class is the specialized Map implementation for enum keys\n",
    "\n",
    "Here's a table summarizing the key **methods of the `EnumMap`** class in Java:\n",
    "\n",
    "| **Method**                                     | **Description**                                                         |\n",
    "| ---------------------------------------------- | ----------------------------------------------------------------------- |\n",
    "| `EnumMap(Class<K> keyType)`                    | Constructs an empty EnumMap with the specified key type.                |\n",
    "| `EnumMap(EnumMap<K, ? extends V> m)`           | Constructs a copy of the specified EnumMap.                             |\n",
    "| `EnumMap(Map<K, ? extends V> m)`               | Constructs an EnumMap initialized from another map.                     |\n",
    "| `V put(K key, V value)`                        | Associates the specified value with the specified key.                  |\n",
    "| `void putAll(Map<? extends K, ? extends V> m)` | Copies all mappings from the specified map to this map.                 |\n",
    "| `V get(Object key)`                            | Returns the value associated with the specified key, or `null`.         |\n",
    "| `boolean containsKey(Object key)`              | Returns `true` if the map contains a mapping for the specified key.     |\n",
    "| `boolean containsValue(Object value)`          | Returns `true` if the map maps one or more keys to the specified value. |\n",
    "| `V remove(Object key)`                         | Removes the mapping for the specified key, if present.                  |\n",
    "| `int size()`                                   | Returns the number of key-value mappings.                               |\n",
    "| `boolean isEmpty()`                            | Returns `true` if the map contains no key-value mappings.               |\n",
    "| `void clear()`                                 | Removes all mappings from the map.                                      |\n",
    "| `Set<K> keySet()`                              | Returns a `Set` view of the keys in this map.                           |\n",
    "| `Collection<V> values()`                       | Returns a `Collection` view of the values in this map.                  |\n",
    "| `Set<Map.Entry<K, V>> entrySet()`              | Returns a `Set` view of the mappings in this map.                       |\n",
    "| `EnumMap<K, V> clone()`                        | Returns a shallow copy of this map.                                     |\n",
    "| `boolean equals(Object o)`                     | Compares the specified object with this map for equality.               |\n",
    "| `int hashCode()`                               | Returns the hash code value for this map.                               |\n",
    "\n",
    "### Notes:\n",
    "\n",
    "* `EnumMap` is a specialized `Map` implementation designed for use with `enum` keys.\n",
    "* It is **ordered in the natural order** of the keys (as defined by the `enum`).\n",
    "* It is **not synchronized**, so use `Collections.synchronizedMap()` if needed.\n"
   ]
  },
  {
   "cell_type": "code",
   "execution_count": 1,
   "id": "65869594-4af7-41df-ad0b-dc8606f84d91",
   "metadata": {},
   "outputs": [],
   "source": [
    "import java.util.EnumMap;"
   ]
  },
  {
   "cell_type": "code",
   "execution_count": 2,
   "id": "5d34bb02-6b0e-4028-bbd6-552f5f02616d",
   "metadata": {},
   "outputs": [],
   "source": [
    "enum Size {\n",
    "    SMALL, MEDIUM, LARGE, EXTRALARGE\n",
    "}"
   ]
  },
  {
   "cell_type": "code",
   "execution_count": 3,
   "id": "24f98ae0-29c1-4561-8b17-29932d95aa43",
   "metadata": {},
   "outputs": [],
   "source": [
    "EnumMap<Size, Integer> sizes = new EnumMap(Size.class);"
   ]
  },
  {
   "cell_type": "code",
   "execution_count": 5,
   "id": "9a82bca4-b212-42ec-ba8a-f037f1383b37",
   "metadata": {},
   "outputs": [
    {
     "data": {
      "text/plain": [
       "{SMALL=20, MEDIUM=30, LARGE=40, EXTRALARGE=50}"
      ]
     },
     "execution_count": 5,
     "metadata": {},
     "output_type": "execute_result"
    }
   ],
   "source": [
    "sizes.put(Size.SMALL, 20);\n",
    "sizes.put(Size.MEDIUM, 30);\n",
    "sizes.put(Size.LARGE, 40);\n",
    "sizes.put(Size.EXTRALARGE, 50);\n",
    "\n",
    "sizes"
   ]
  },
  {
   "cell_type": "code",
   "execution_count": 6,
   "id": "516fb190-a536-4cbd-94e6-3c372c1be97c",
   "metadata": {},
   "outputs": [
    {
     "data": {
      "text/plain": [
       "[SMALL, MEDIUM, LARGE, EXTRALARGE]"
      ]
     },
     "execution_count": 6,
     "metadata": {},
     "output_type": "execute_result"
    }
   ],
   "source": [
    "sizes.keySet();"
   ]
  },
  {
   "cell_type": "code",
   "execution_count": 7,
   "id": "c48dd1e4-5ea4-42c6-81bf-930954fcb63d",
   "metadata": {},
   "outputs": [
    {
     "data": {
      "text/plain": [
       "[20, 30, 40, 50]"
      ]
     },
     "execution_count": 7,
     "metadata": {},
     "output_type": "execute_result"
    }
   ],
   "source": [
    "sizes.values();"
   ]
  },
  {
   "cell_type": "code",
   "execution_count": 8,
   "id": "bc3ab7b3-c9f2-4e88-8975-b68c1243241b",
   "metadata": {},
   "outputs": [
    {
     "data": {
      "text/plain": [
       "[SMALL=20, MEDIUM=30, LARGE=40, EXTRALARGE=50]"
      ]
     },
     "execution_count": 8,
     "metadata": {},
     "output_type": "execute_result"
    }
   ],
   "source": [
    "sizes.entrySet();"
   ]
  }
 ],
 "metadata": {
  "kernelspec": {
   "display_name": "Java",
   "language": "java",
   "name": "java"
  },
  "language_info": {
   "codemirror_mode": "java",
   "file_extension": ".jshell",
   "mimetype": "text/x-java-source",
   "name": "Java",
   "pygments_lexer": "java",
   "version": "11.0.26+4-post-Ubuntu-1ubuntu124.04"
  }
 },
 "nbformat": 4,
 "nbformat_minor": 5
}
