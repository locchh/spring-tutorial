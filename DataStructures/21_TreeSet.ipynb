{
 "cells": [
  {
   "cell_type": "markdown",
   "id": "77c9f91d-d2f5-4b02-9b76-69c8d3adfa7a",
   "metadata": {},
   "source": [
    "### TreeSet\n",
    "\n",
    "Java TreeSet class implements the Set interface that uses a tree for storage.\n",
    "\n",
    "Here's a table of commonly used methods in Java’s `TreeSet` class, which implements both `NavigableSet` and `SortedSet`:\n",
    "\n",
    "| **Method**                                                         | **Description**                                                                 |\n",
    "| ------------------------------------------------------------------ | ------------------------------------------------------------------------------- |\n",
    "| `add(E e)`                                                         | Adds the specified element if it is not already present (sorted automatically). |\n",
    "| `remove(Object o)`                                                 | Removes the specified element if present.                                       |\n",
    "| `contains(Object o)`                                               | Returns `true` if the set contains the specified element.                       |\n",
    "| `clear()`                                                          | Removes all elements from the set.                                              |\n",
    "| `size()`                                                           | Returns the number of elements in the set.                                      |\n",
    "| `isEmpty()`                                                        | Returns `true` if the set contains no elements.                                 |\n",
    "| `iterator()`                                                       | Returns an iterator over the elements in **ascending order**.                   |\n",
    "| `descendingIterator()`                                             | Returns an iterator over the elements in **descending order**.                  |\n",
    "| `first()`                                                          | Returns the **lowest** element.                                                 |\n",
    "| `last()`                                                           | Returns the **highest** element.                                                |\n",
    "| `lower(E e)`                                                       | Greatest element **less than** `e`, or `null`.                                  |\n",
    "| `floor(E e)`                                                       | Greatest element **≤** `e`, or `null`.                                          |\n",
    "| `ceiling(E e)`                                                     | Least element **≥** `e`, or `null`.                                             |\n",
    "| `higher(E e)`                                                      | Least element **greater than** `e`, or `null`.                                  |\n",
    "| `pollFirst()`                                                      | Retrieves and removes the **first** element.                                    |\n",
    "| `pollLast()`                                                       | Retrieves and removes the **last** element.                                     |\n",
    "| `subSet(E from, E to)`                                             | View from `from` (inclusive) to `to` (exclusive).                               |\n",
    "| `subSet(E from, boolean fromInclusive, E to, boolean toInclusive)` | View with inclusive/exclusive bounds.                                           |\n",
    "| `headSet(E toElement)`                                             | Elements less than `toElement`.                                                 |\n",
    "| `headSet(E toElement, boolean inclusive)`                          | Elements ≤ `toElement` if inclusive.                                            |\n",
    "| `tailSet(E fromElement)`                                           | Elements ≥ `fromElement`.                                                       |\n",
    "| `tailSet(E fromElement, boolean inclusive)`                        | Elements ≥ `fromElement` if inclusive.                                          |\n",
    "| `comparator()`                                                     | Returns the custom comparator used, or `null` if using natural ordering.        |\n",
    "| `descendingSet()`                                                  | Returns a view of the set in reverse order.                                     |\n",
    "\n",
    "### Key Features of `TreeSet`:\n",
    "\n",
    "* **Sorted automatically** (natural ordering or via a `Comparator`).\n",
    "* **No duplicates** allowed.\n",
    "* Backed by a **Red-Black tree**, providing `O(log n)` time for most operations."
   ]
  },
  {
   "cell_type": "code",
   "execution_count": 1,
   "id": "d44de13e-5853-4d07-8368-24960eeb7730",
   "metadata": {},
   "outputs": [],
   "source": [
    "import java.util.Set;"
   ]
  },
  {
   "cell_type": "code",
   "execution_count": 6,
   "id": "98baef3f-c8ab-46ec-83a8-9e1d11d975e2",
   "metadata": {},
   "outputs": [],
   "source": [
    "// Set<String> set = new TreeSet<String>();\n",
    "\n",
    "NavigableSet<String> set = new TreeSet<String>();"
   ]
  },
  {
   "cell_type": "code",
   "execution_count": 7,
   "id": "c13162b7-8715-4666-b0c3-673bd125fdf6",
   "metadata": {},
   "outputs": [
    {
     "data": {
      "text/plain": [
       "[A, B, C]"
      ]
     },
     "execution_count": 7,
     "metadata": {},
     "output_type": "execute_result"
    }
   ],
   "source": [
    "set.add(\"A\");\n",
    "set.add(\"B\");\n",
    "set.add(\"C\");\n",
    "set.add(\"C\");\n",
    "\n",
    "set"
   ]
  },
  {
   "cell_type": "code",
   "execution_count": 8,
   "id": "b6723061-dcc1-4f02-ba0a-df538a1502ab",
   "metadata": {},
   "outputs": [
    {
     "data": {
      "text/plain": [
       "true"
      ]
     },
     "execution_count": 8,
     "metadata": {},
     "output_type": "execute_result"
    }
   ],
   "source": [
    "set.contains(\"C\");"
   ]
  },
  {
   "cell_type": "code",
   "execution_count": 9,
   "id": "1176db3b-52d4-4747-9f18-7c6f51313295",
   "metadata": {},
   "outputs": [
    {
     "data": {
      "text/plain": [
       "false"
      ]
     },
     "execution_count": 9,
     "metadata": {},
     "output_type": "execute_result"
    }
   ],
   "source": [
    "set.contains(\"D\");"
   ]
  },
  {
   "cell_type": "code",
   "execution_count": 10,
   "id": "893f93ea-8e38-4826-bd42-8dea3f675120",
   "metadata": {},
   "outputs": [
    {
     "data": {
      "text/plain": [
       "A"
      ]
     },
     "execution_count": 10,
     "metadata": {},
     "output_type": "execute_result"
    }
   ],
   "source": [
    "set.first();"
   ]
  },
  {
   "cell_type": "code",
   "execution_count": 11,
   "id": "f0a40993-f548-4491-aa1e-f289487415e0",
   "metadata": {},
   "outputs": [
    {
     "data": {
      "text/plain": [
       "C"
      ]
     },
     "execution_count": 11,
     "metadata": {},
     "output_type": "execute_result"
    }
   ],
   "source": [
    "set.last();"
   ]
  },
  {
   "cell_type": "code",
   "execution_count": 13,
   "id": "35dd1983-0806-4d17-b4c8-f4822ca2f5db",
   "metadata": {},
   "outputs": [
    {
     "data": {
      "text/plain": [
       "C"
      ]
     },
     "execution_count": 13,
     "metadata": {},
     "output_type": "execute_result"
    }
   ],
   "source": [
    "set.higher(\"B\");"
   ]
  },
  {
   "cell_type": "code",
   "execution_count": 14,
   "id": "495ad66b-6484-4500-9a5e-e1996679619e",
   "metadata": {},
   "outputs": [
    {
     "data": {
      "text/plain": [
       "A"
      ]
     },
     "execution_count": 14,
     "metadata": {},
     "output_type": "execute_result"
    }
   ],
   "source": [
    "set.lower(\"B\");"
   ]
  },
  {
   "cell_type": "code",
   "execution_count": 15,
   "id": "34c7bf59-575f-4712-b1c7-f5e9309c6045",
   "metadata": {},
   "outputs": [
    {
     "data": {
      "text/plain": [
       "A"
      ]
     },
     "execution_count": 15,
     "metadata": {},
     "output_type": "execute_result"
    }
   ],
   "source": [
    "set.pollFirst();"
   ]
  },
  {
   "cell_type": "code",
   "execution_count": 16,
   "id": "f4227632-84c6-4fb2-a0f9-0e715010414f",
   "metadata": {},
   "outputs": [
    {
     "data": {
      "text/plain": [
       "C"
      ]
     },
     "execution_count": 16,
     "metadata": {},
     "output_type": "execute_result"
    }
   ],
   "source": [
    "set.pollLast();"
   ]
  },
  {
   "cell_type": "markdown",
   "id": "7ae7a321-59cf-459e-9ca0-3ff4a0c679dd",
   "metadata": {},
   "source": [
    "### Read more about Set\n",
    "\n",
    "**Java Set Interface**\n",
    "\n",
    "A collection that contains no duplicate elements. More formally, sets contain no pair of elements e1 and e2 such that e1.equals(e2), and at most one null element. As implied by its name, this interface models the mathematical set abstraction.\n",
    "\n",
    "The Set interface places additional stipulations, beyond those inherited from the Collection interface, on the contracts of all constructors and on the contracts of the add, equals and hashCode methods. Declarations for other inherited methods are also included here for convenience. (The specifications accompanying these declarations have been tailored to the Set interface, but they do not contain any additional stipulations.)\n",
    "\n",
    "The additional stipulation on constructors is, not surprisingly, that all constructors must create a set that contains no duplicate elements (as defined above).\n",
    "\n",
    "[Read more](https://docs.oracle.com/en/java/javase/17/docs/api/java.base/java/util/Set.html)\n",
    "\n",
    "**Java HashSet**\n",
    "\n",
    "This class implements the Set interface, backed by a hash table (actually a HashMap instance). It makes no guarantees as to the iteration order of the set; in particular, it does not guarantee that the order will remain constant over time. This class permits the null element.\n",
    "\n",
    "This class offers constant time performance for the basic operations (add, remove, contains and size), assuming the hash function disperses the elements properly among the buckets. Iterating over this set requires time proportional to the sum of the HashSet instance's size (the number of elements) plus the \"capacity\" of the backing HashMap instance (the number of buckets). Thus, it's very important not to set the initial capacity too high (or the load factor too low) if iteration performance is important.\n",
    "\n",
    "[Read more](https://docs.oracle.com/en/java/javase/17/docs/api/java.base/java/util/HashSet.html#:~:text=This%20class%20implements,performance%20is%20important.)\n",
    "\n",
    "**Java EnumSet**\n",
    "\n",
    "A specialized Set implementation for use with enum types. All of the elements in an enum set must come from a single enum type that is specified, explicitly or implicitly, when the set is created. Enum sets are represented internally as bit vectors. This representation is extremely compact and efficient. The space and time performance of this class should be good enough to allow its use as a high-quality, typesafe alternative to traditional int-based \"bit flags.\" Even bulk operations (such as containsAll and retainAll) should run very quickly if their argument is also an enum set.\n",
    "\n",
    "The iterator returned by the iterator method traverses the elements in their natural order (the order in which the enum constants are declared). The returned iterator is weakly consistent: it will never throw ConcurrentModificationException and it may or may not show the effects of any modifications to the set that occur while the iteration is in progress.\n",
    "\n",
    "[Read more](https://docs.oracle.com/en/java/javase/17/docs/api/java.base/java/util/EnumSet.html)\n",
    "\n",
    "**Java LinkedHash Set**\n",
    "\n",
    "Hash table and linked list implementation of the Set interface, with predictable iteration order. This implementation differs from HashSet in that it maintains a doubly-linked list running through all of its entries. This linked list defines the iteration ordering, which is the order in which elements were inserted into the set (insertion-order). Note that insertion order is not affected if an element is re-inserted into the set. (An element e is reinserted into a set s if s.add(e) is invoked when s.contains(e) would return true immediately prior to the invocation.)\n",
    "\n",
    "[Read more](https://docs.oracle.com/en/java/javase/17/docs/api/java.base/java/util/LinkedHashSet.html)\n",
    "\n",
    "**Java SortedHash Set**\n",
    "\n",
    "A Set that further provides a total ordering on its elements. The elements are ordered using their natural ordering, or by a Comparator typically provided at sorted set creation time. The set's iterator will traverse the set in ascending element order. Several additional operations are provided to take advantage of the ordering. (This interface is the set analogue of SortedMap.)\n",
    "\n",
    "All elements inserted into a sorted set must implement the Comparable interface (or be accepted by the specified comparator). Furthermore, all such elements must be mutually comparable: e1.compareTo(e2) (or comparator.compare(e1, e2)) must not throw a ClassCastException for any elements e1 and e2 in the sorted set. Attempts to violate this restriction will cause the offending method or constructor invocation to throw a ClassCastException.\n",
    "\n",
    "[Read more](https://docs.oracle.com/en/java/javase/17/docs/api/java.base/java/util/SortedSet.html)\n",
    "\n",
    "**Java NavigableHash Set**\n",
    "\n",
    "A SortedSet extended with navigation methods reporting closest matches for given search targets. Methods lower(E), floor(E), ceiling(E), and higher(E) return elements respectively less than, less than or equal, greater than or equal, and greater than a given element, returning null if there is no such element.\n",
    "\n",
    "A NavigableSet may be accessed and traversed in either ascending or descending order. The descendingSet() method returns a view of the set with the senses of all relational and directional methods inverted. The performance of ascending operations and views is likely to be faster than that of descending ones. This interface additionally defines methods pollFirst() and pollLast() that return and remove the lowest and highest element, if one exists, else returning null. Methods subSet(E, boolean, E, boolean), headSet(E, boolean), and tailSet(E, boolean) differ from the like-named SortedSet methods in accepting additional arguments describing whether lower and upper bounds are inclusive versus exclusive. Subsets of any NavigableSet must implement the NavigableSet interface.\n",
    "\n",
    "[Read more](https://docs.oracle.com/en/java/javase/17/docs/api/java.base/java/util/NavigableSet.html)\n",
    "\n",
    "**Java Tree Set**\n",
    "\n",
    "A NavigableSet implementation based on a TreeMap. The elements are ordered using their natural ordering, or by a Comparator provided at set creation time, depending on which constructor is used.\n",
    "\n",
    "This implementation provides guaranteed log(n) time cost for the basic operations (add, remove and contains).\n",
    "\n",
    "[Read more](https://docs.oracle.com/en/java/javase/17/docs/api/java.base/java/util/TreeSet.html)"
   ]
  },
  {
   "cell_type": "code",
   "execution_count": null,
   "id": "638307d5-8102-4a60-a4ed-bd174a81b073",
   "metadata": {},
   "outputs": [],
   "source": []
  }
 ],
 "metadata": {
  "kernelspec": {
   "display_name": "Java",
   "language": "java",
   "name": "java"
  },
  "language_info": {
   "codemirror_mode": "java",
   "file_extension": ".jshell",
   "mimetype": "text/x-java-source",
   "name": "Java",
   "pygments_lexer": "java",
   "version": "11.0.26+4-post-Ubuntu-1ubuntu124.04"
  }
 },
 "nbformat": 4,
 "nbformat_minor": 5
}
