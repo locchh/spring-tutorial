{
 "cells": [
  {
   "cell_type": "markdown",
   "id": "4ed68bfb-c584-44e6-b060-daa52e6de700",
   "metadata": {},
   "source": [
    "### HashMap\n",
    "\n",
    "Here's an extended and organized table of **common `HashMap` methods in Java**, including their return types and descriptions:\n",
    "\n",
    "| **Method**                                       | **Return Type**       | **Description**                                                            |\n",
    "| ------------------------------------------------ | --------------------- | -------------------------------------------------------------------------- |\n",
    "| `void clear()`                                   | `void`                | Removes all key-value mappings from the map.                               |\n",
    "| `boolean isEmpty()`                              | `boolean`             | Returns `true` if the map contains no key-value mappings.                  |\n",
    "| `Object clone()`                                 | `Object`              | Returns a shallow copy of the `HashMap`.                                   |\n",
    "| `Set<Map.Entry<K,V>> entrySet()`                 | `Set<Map.Entry<K,V>>` | Returns a set view of the mappings contained in the map.                   |\n",
    "| `V put(K key, V value)`                          | `V`                   | Associates the specified value with the specified key.                     |\n",
    "| `V get(Object key)`                              | `V`                   | Returns the value to which the specified key is mapped, or `null` if none. |\n",
    "| `boolean containsKey(Object key)`                | `boolean`             | Returns `true` if the map contains a mapping for the specified key.        |\n",
    "| `boolean containsValue(Object value)`            | `boolean`             | Returns `true` if the map maps one or more keys to the specified value.    |\n",
    "| `V remove(Object key)`                           | `V`                   | Removes the mapping for the specified key if present.                      |\n",
    "| `int size()`                                     | `int`                 | Returns the number of key-value mappings in the map.                       |\n",
    "| `Set<K> keySet()`                                | `Set<K>`              | Returns a set view of the keys contained in the map.                       |\n",
    "| `Collection<V> values()`                         | `Collection<V>`       | Returns a collection view of the values contained in the map.              |\n",
    "| `void putAll(Map<? extends K, ? extends V> m)`   | `void`                | Copies all mappings from the specified map to this map.                    |\n",
    "| `V getOrDefault(Object key, V defaultValue)`     | `V`                   | Returns the value for the key, or the default if key not present.          |\n",
    "| `V replace(K key, V value)`                      | `V`                   | Replaces the entry for the specified key only if it is currently mapped.   |\n",
    "| `boolean replace(K key, V oldValue, V newValue)` | `boolean`             | Replaces the value for key only if it is currently mapped to oldValue.     |\n",
    "| `V putIfAbsent(K key, V value)`                  | `V`                   | Puts the value if the key is not already associated with a value.          |\n",
    "| `boolean equals(Object o)`                       | `boolean`             | Compares the specified object with this map for equality.                  |\n",
    "| `int hashCode()`                                 | `int`                 | Returns the hash code value for the map.                                   |\n",
    "\n",
    "Let me know if you'd like code examples for any of these methods.\n"
   ]
  },
  {
   "cell_type": "code",
   "execution_count": 1,
   "id": "fb221792-bfcd-4a17-882f-42f5ef513f0e",
   "metadata": {},
   "outputs": [],
   "source": [
    "import java.util.Map;"
   ]
  },
  {
   "cell_type": "code",
   "execution_count": 2,
   "id": "cd3cfc97-9074-478d-a758-af08ade20caf",
   "metadata": {},
   "outputs": [],
   "source": [
    "Map<Integer, String> map = new HashMap<Integer, String>();"
   ]
  },
  {
   "cell_type": "code",
   "execution_count": 3,
   "id": "b5f0c4ef-a8a2-440d-a10c-213f4da79168",
   "metadata": {},
   "outputs": [
    {
     "data": {
      "text/plain": [
       "{100=King Kochar, 102=Shreya Sharma, 103=Gautam Bhalla}"
      ]
     },
     "execution_count": 3,
     "metadata": {},
     "output_type": "execute_result"
    }
   ],
   "source": [
    "map.put(100,\"King Kochar\");\n",
    "map.put(102,\"Shreya Sharma\");\n",
    "map.put(103,\"Gautam Bhalla\");\n",
    "\n",
    "map"
   ]
  },
  {
   "cell_type": "code",
   "execution_count": 4,
   "id": "d2bb38bd-08d5-4063-ada8-8a59b8c28214",
   "metadata": {},
   "outputs": [
    {
     "name": "stdout",
     "output_type": "stream",
     "text": [
      "100 : King Kochar\n",
      "102 : Shreya Sharma\n",
      "103 : Gautam Bhalla\n"
     ]
    }
   ],
   "source": [
    "for(Map.Entry<Integer,String> m :map.entrySet()){\n",
    "    System.out.println(m.getKey() + \" : \" + m.getValue());\n",
    "}"
   ]
  },
  {
   "cell_type": "code",
   "execution_count": 5,
   "id": "47171f38-d9a1-4459-81b1-af1317d39fee",
   "metadata": {},
   "outputs": [
    {
     "data": {
      "text/plain": [
       "King Kochar"
      ]
     },
     "execution_count": 5,
     "metadata": {},
     "output_type": "execute_result"
    }
   ],
   "source": [
    "String value = map.get(100);\n",
    "\n",
    "value"
   ]
  },
  {
   "cell_type": "code",
   "execution_count": 6,
   "id": "3a575a0b-5b1c-4ec7-8a58-3b03edb867fd",
   "metadata": {},
   "outputs": [
    {
     "data": {
      "text/plain": [
       "[100, 102, 103]"
      ]
     },
     "execution_count": 6,
     "metadata": {},
     "output_type": "execute_result"
    }
   ],
   "source": [
    "map.keySet();"
   ]
  },
  {
   "cell_type": "code",
   "execution_count": 7,
   "id": "7f3ef9ab-7d2f-4cd7-b09b-27033612a76e",
   "metadata": {},
   "outputs": [
    {
     "data": {
      "text/plain": [
       "[King Kochar, Shreya Sharma, Gautam Bhalla]"
      ]
     },
     "execution_count": 7,
     "metadata": {},
     "output_type": "execute_result"
    }
   ],
   "source": [
    "map.values();"
   ]
  },
  {
   "cell_type": "code",
   "execution_count": 8,
   "id": "baab10df-c3df-4d6d-928b-c0a228bda7fe",
   "metadata": {},
   "outputs": [
    {
     "data": {
      "text/plain": [
       "[100=King Kochar, 102=Shreya Sharma, 103=Gautam Bhalla]"
      ]
     },
     "execution_count": 8,
     "metadata": {},
     "output_type": "execute_result"
    }
   ],
   "source": [
    "map.entrySet();"
   ]
  },
  {
   "cell_type": "code",
   "execution_count": 9,
   "id": "e2c38052-301c-4945-8b37-83cc9a25d756",
   "metadata": {},
   "outputs": [
    {
     "data": {
      "text/plain": [
       "{102=Shreya Sharma, 103=Gautam Bhalla}"
      ]
     },
     "execution_count": 9,
     "metadata": {},
     "output_type": "execute_result"
    }
   ],
   "source": [
    "map.remove(100);\n",
    "map"
   ]
  },
  {
   "cell_type": "code",
   "execution_count": 10,
   "id": "602a3ad6-a11f-4a75-bbdb-24b1be7cf590",
   "metadata": {},
   "outputs": [
    {
     "data": {
      "text/plain": [
       "{}"
      ]
     },
     "execution_count": 10,
     "metadata": {},
     "output_type": "execute_result"
    }
   ],
   "source": [
    "map.clear();\n",
    "\n",
    "map"
   ]
  },
  {
   "cell_type": "code",
   "execution_count": null,
   "id": "7a0f3ce0-ab8a-4740-abf3-9ca4332e684c",
   "metadata": {},
   "outputs": [],
   "source": []
  }
 ],
 "metadata": {
  "kernelspec": {
   "display_name": "Java",
   "language": "java",
   "name": "java"
  },
  "language_info": {
   "codemirror_mode": "java",
   "file_extension": ".jshell",
   "mimetype": "text/x-java-source",
   "name": "Java",
   "pygments_lexer": "java",
   "version": "11.0.26+4-post-Ubuntu-1ubuntu124.04"
  }
 },
 "nbformat": 4,
 "nbformat_minor": 5
}
