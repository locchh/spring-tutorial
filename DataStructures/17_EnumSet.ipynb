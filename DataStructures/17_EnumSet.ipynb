{
 "cells": [
  {
   "cell_type": "markdown",
   "id": "df95be93-5aa8-42c7-9290-68325d785646",
   "metadata": {},
   "source": [
    "### EnumSet\n",
    "\n",
    "Enum represents a group of named constants in a programming language.\n",
    "\n",
    "Here's a table of commonly used methods in Java’s `EnumSet` class (from `java.util` package):\n",
    "\n",
    "| **Method**                          | **Description**                                                                               |\n",
    "| ----------------------------------- | --------------------------------------------------------------------------------------------- |\n",
    "| `add(E e)`                          | Adds the specified element to the set if it is not already present.                           |\n",
    "| `addAll(Collection<? extends E> c)` | Adds all of the elements in the specified collection to the set.                              |\n",
    "| `clear()`                           | Removes all of the elements from the set.                                                     |\n",
    "| `contains(Object o)`                | Returns `true` if the set contains the specified element.                                     |\n",
    "| `isEmpty()`                         | Returns `true` if the set contains no elements.                                               |\n",
    "| `iterator()`                        | Returns an iterator over the elements in the set.                                             |\n",
    "| `remove(Object o)`                  | Removes the specified element from the set if it is present.                                  |\n",
    "| `size()`                            | Returns the number of elements in the set.                                                    |\n",
    "| `toArray()`                         | Returns an array containing all of the elements in the set.                                   |\n",
    "| `toArray(T[] a)`                    | Returns an array containing all elements; the runtime type is that of the array.              |\n",
    "| `clone()`                           | Returns a shallow copy of this `EnumSet` instance.                                            |\n",
    "| `containsAll(Collection<?> c)`      | Returns `true` if the set contains all elements in the specified collection.                  |\n",
    "| `removeAll(Collection<?> c)`        | Removes all the elements in the specified collection from the set.                            |\n",
    "| `retainAll(Collection<?> c)`        | Retains only the elements in the set that are contained in the specified collection.          |\n",
    "| `complementOf(EnumSet<E> s)`        | Returns the complement of the given `EnumSet`.                                                |\n",
    "| `copyOf(Collection<E> c)`           | Creates a new `EnumSet` with the elements of the specified collection.                        |\n",
    "| `noneOf(Class<E> elementType)`      | Returns an empty `EnumSet` of the specified type.                                             |\n",
    "| `allOf(Class<E> elementType)`       | Returns an `EnumSet` containing all elements of the specified type.                           |\n",
    "| `of(E e)`                           | Creates an `EnumSet` containing a single element.                                             |\n",
    "| `of(E e1, E e2)`                    | Creates an `EnumSet` containing two elements.                                                 |\n",
    "| `of(E e1, E e2, E e3)`              | Creates an `EnumSet` containing three elements.                                               |\n",
    "| `of(E e1, E e2, E e3, E e4)`        | Creates an `EnumSet` containing four elements.                                                |\n",
    "| `of(E e1, E e2, E e3, E e4, E e5)`  | Creates an `EnumSet` containing five elements.                                                |\n",
    "| `range(E from, E to)`               | Returns an `EnumSet` containing all of the elements in the specified range.                   |\n",
    "| `rangeClosed(E from, E to)`         | Returns an `EnumSet` containing all elements in the specified range, including the endpoints. |\n",
    "\n",
    "`EnumSet` is a specialized `Set` implementation for use with enum types. It's a more efficient alternative to using `HashSet` or `TreeSet` when you're dealing with enums.\n"
   ]
  },
  {
   "cell_type": "code",
   "execution_count": 1,
   "id": "57ce2cc6-1945-4b80-8b11-c95f966360ac",
   "metadata": {},
   "outputs": [],
   "source": [
    "import java.util.EnumSet;"
   ]
  },
  {
   "cell_type": "code",
   "execution_count": 2,
   "id": "772be664-b0db-43cf-a6c5-b5ef7d9d9dc8",
   "metadata": {},
   "outputs": [],
   "source": [
    "enum Size {\n",
    "    SMALL, MEDIUM, LARGE, EXTRALARGE\n",
    "}"
   ]
  },
  {
   "cell_type": "code",
   "execution_count": 3,
   "id": "83805e14-6615-4682-b65b-12330968629b",
   "metadata": {},
   "outputs": [
    {
     "data": {
      "text/plain": [
       "[SMALL, MEDIUM, LARGE, EXTRALARGE]"
      ]
     },
     "execution_count": 3,
     "metadata": {},
     "output_type": "execute_result"
    }
   ],
   "source": [
    "EnumSet<Size> sizes  = EnumSet.allOf(Size.class);\n",
    "\n",
    "sizes"
   ]
  },
  {
   "cell_type": "code",
   "execution_count": 4,
   "id": "73664b9e-2abf-4637-8759-eeb74fd3b544",
   "metadata": {},
   "outputs": [
    {
     "data": {
      "text/plain": [
       "[]"
      ]
     },
     "execution_count": 4,
     "metadata": {},
     "output_type": "execute_result"
    }
   ],
   "source": [
    "EnumSet<Size> sizes1  = EnumSet.noneOf(Size.class);\n",
    "\n",
    "sizes1"
   ]
  },
  {
   "cell_type": "code",
   "execution_count": 5,
   "id": "5783b0fd-a006-463d-91d0-1b1cbaa83b69",
   "metadata": {},
   "outputs": [
    {
     "data": {
      "text/plain": [
       "[MEDIUM, LARGE, EXTRALARGE]"
      ]
     },
     "execution_count": 5,
     "metadata": {},
     "output_type": "execute_result"
    }
   ],
   "source": [
    "EnumSet<Size> sizes2  = EnumSet.range(Size.MEDIUM, Size.EXTRALARGE);\n",
    "\n",
    "sizes2"
   ]
  },
  {
   "cell_type": "code",
   "execution_count": 6,
   "id": "3f1cc1fc-01fd-4df2-8142-47246ff2d290",
   "metadata": {},
   "outputs": [
    {
     "data": {
      "text/plain": [
       "[SMALL, EXTRALARGE]"
      ]
     },
     "execution_count": 6,
     "metadata": {},
     "output_type": "execute_result"
    }
   ],
   "source": [
    "EnumSet<Size> sizes3  = EnumSet.of(Size.SMALL, Size.EXTRALARGE);\n",
    "\n",
    "sizes3"
   ]
  },
  {
   "cell_type": "code",
   "execution_count": 8,
   "id": "d5eb3e59-719e-4c82-b14f-d93c41973bde",
   "metadata": {},
   "outputs": [],
   "source": [
    "Iterator<Size> iterator = sizes.iterator();"
   ]
  },
  {
   "cell_type": "code",
   "execution_count": 9,
   "id": "6e6f7f81-574a-47eb-ab53-4c19a732f955",
   "metadata": {},
   "outputs": [
    {
     "name": "stdout",
     "output_type": "stream",
     "text": [
      "SMALL\n",
      "MEDIUM\n",
      "LARGE\n",
      "EXTRALARGE\n"
     ]
    }
   ],
   "source": [
    "while(iterator.hasNext()){\n",
    "    System.out.println(iterator.next());\n",
    "}"
   ]
  },
  {
   "cell_type": "code",
   "execution_count": 10,
   "id": "06bcfe99-c0d5-4184-a58c-2a1a0acf1ac6",
   "metadata": {},
   "outputs": [
    {
     "name": "stdout",
     "output_type": "stream",
     "text": [
      "true\n"
     ]
    }
   ],
   "source": [
    "System.out.println(sizes.remove(Size.MEDIUM));"
   ]
  },
  {
   "cell_type": "code",
   "execution_count": 11,
   "id": "d3c26cad-1ae7-4c6f-b95d-aedb6166a0e9",
   "metadata": {},
   "outputs": [
    {
     "data": {
      "text/plain": [
       "[SMALL, LARGE, EXTRALARGE]"
      ]
     },
     "execution_count": 11,
     "metadata": {},
     "output_type": "execute_result"
    }
   ],
   "source": [
    "sizes"
   ]
  },
  {
   "cell_type": "code",
   "execution_count": 13,
   "id": "9ea8ffc3-d83b-4e13-8e72-a6d6c0c63948",
   "metadata": {},
   "outputs": [
    {
     "name": "stdout",
     "output_type": "stream",
     "text": [
      "true\n"
     ]
    },
    {
     "data": {
      "text/plain": [
       "[]"
      ]
     },
     "execution_count": 13,
     "metadata": {},
     "output_type": "execute_result"
    }
   ],
   "source": [
    "System.out.println(sizes.removeAll(sizes));\n",
    "\n",
    "sizes"
   ]
  },
  {
   "cell_type": "code",
   "execution_count": null,
   "id": "3cdf04e7-1ba9-40eb-bf1e-ce7e8483be88",
   "metadata": {},
   "outputs": [],
   "source": []
  }
 ],
 "metadata": {
  "kernelspec": {
   "display_name": "Java",
   "language": "java",
   "name": "java"
  },
  "language_info": {
   "codemirror_mode": "java",
   "file_extension": ".jshell",
   "mimetype": "text/x-java-source",
   "name": "Java",
   "pygments_lexer": "java",
   "version": "11.0.26+4-post-Ubuntu-1ubuntu124.04"
  }
 },
 "nbformat": 4,
 "nbformat_minor": 5
}
