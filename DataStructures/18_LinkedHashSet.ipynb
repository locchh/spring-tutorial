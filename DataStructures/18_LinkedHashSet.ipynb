{
 "cells": [
  {
   "cell_type": "markdown",
   "id": "554e8666-cb00-4bb4-9f7a-52c8e0a733e8",
   "metadata": {},
   "source": [
    "### LinkedHashSet\n",
    "\n",
    "The LinkedHashSet is an ordered version of  HashSet that maintains a doubly-linked List across all elements\n",
    "\n",
    "Here is a table of commonly used methods in Java’s `LinkedHashSet` class (from the `java.util` package):\n",
    "\n",
    "| **Method**                            | **Description**                                                                      |\n",
    "| ------------------------------------- | ------------------------------------------------------------------------------------ |\n",
    "| `add(E e)`                            | Adds the specified element to the set if it is not already present.                  |\n",
    "| `addAll(Collection<? extends E> c)`   | Adds all of the elements in the specified collection to the set.                     |\n",
    "| `clear()`                             | Removes all of the elements from the set.                                            |\n",
    "| `contains(Object o)`                  | Returns `true` if the set contains the specified element.                            |\n",
    "| `isEmpty()`                           | Returns `true` if the set contains no elements.                                      |\n",
    "| `iterator()`                          | Returns an iterator over the elements in insertion order.                            |\n",
    "| `remove(Object o)`                    | Removes the specified element from the set if it is present.                         |\n",
    "| `size()`                              | Returns the number of elements in the set.                                           |\n",
    "| `toArray()`                           | Returns an array containing all of the elements in the set.                          |\n",
    "| `toArray(T[] a)`                      | Returns an array containing all elements; the runtime type is that of the array.     |\n",
    "| `clone()`                             | Returns a shallow copy of this `LinkedHashSet` instance.                             |\n",
    "| `containsAll(Collection<?> c)`        | Returns `true` if the set contains all elements in the specified collection.         |\n",
    "| `removeAll(Collection<?> c)`          | Removes all the elements in the specified collection from the set.                   |\n",
    "| `retainAll(Collection<?> c)`          | Retains only the elements in the set that are contained in the specified collection. |\n",
    "| `spliterator()`                       | Creates a late-binding and fail-fast spliterator over the elements.                  |\n",
    "| `forEach(Consumer<? super E> action)` | Performs the given action for each element in insertion order.                       |\n",
    "\n",
    "### Key Feature:\n",
    "\n",
    "* `LinkedHashSet` maintains **insertion order**, unlike `HashSet` which is unordered.\n"
   ]
  },
  {
   "cell_type": "code",
   "execution_count": 4,
   "id": "e5b006b7-fe5c-4bd9-ba93-8d3bd4dc82a4",
   "metadata": {},
   "outputs": [],
   "source": [
    "import java.util.ArrayList;\n",
    "import java.util.LinkedHashSet;"
   ]
  },
  {
   "cell_type": "code",
   "execution_count": 5,
   "id": "de79dc23-8065-4a66-ab08-cd0e1920097e",
   "metadata": {},
   "outputs": [
    {
     "data": {
      "text/plain": [
       "[2, 4, 6]"
      ]
     },
     "execution_count": 5,
     "metadata": {},
     "output_type": "execute_result"
    }
   ],
   "source": [
    "ArrayList<Integer> evenNumbers = new ArrayList<>();\n",
    "\n",
    "evenNumbers.add(2);\n",
    "evenNumbers.add(4);\n",
    "evenNumbers.add(6);\n",
    "\n",
    "evenNumbers"
   ]
  },
  {
   "cell_type": "code",
   "execution_count": 7,
   "id": "2ae1e3cf-961d-47f3-b5d4-4b478f13ef39",
   "metadata": {},
   "outputs": [
    {
     "data": {
      "text/plain": [
       "[2, 4, 6]"
      ]
     },
     "execution_count": 7,
     "metadata": {},
     "output_type": "execute_result"
    }
   ],
   "source": [
    "LinkedHashSet<Integer> numbers = new LinkedHashSet<Integer>(evenNumbers);\n",
    "\n",
    "numbers"
   ]
  },
  {
   "cell_type": "code",
   "execution_count": 8,
   "id": "c2c9840f-8b30-44f8-af77-3bf63e076fcc",
   "metadata": {},
   "outputs": [
    {
     "data": {
      "text/plain": [
       "[2, 4, 6, 8]"
      ]
     },
     "execution_count": 8,
     "metadata": {},
     "output_type": "execute_result"
    }
   ],
   "source": [
    "LinkedHashSet<Integer> numbers = new LinkedHashSet<Integer>();\n",
    "\n",
    "numbers.addAll(evenNumbers);\n",
    "\n",
    "numbers.add(8);\n",
    "\n",
    "numbers"
   ]
  },
  {
   "cell_type": "code",
   "execution_count": 9,
   "id": "e51817a4-ba29-47c5-ac5c-284d35f2de77",
   "metadata": {},
   "outputs": [
    {
     "name": "stdout",
     "output_type": "stream",
     "text": [
      "2\n",
      "4\n",
      "6\n",
      "8\n"
     ]
    }
   ],
   "source": [
    "Iterator<Integer> iterator = numbers.iterator();\n",
    "\n",
    "while(iterator.hasNext()){\n",
    "    System.out.println(iterator.next());\n",
    "}"
   ]
  },
  {
   "cell_type": "code",
   "execution_count": 10,
   "id": "61d254bc-63c4-4ca8-b629-8bbda8d357f1",
   "metadata": {},
   "outputs": [
    {
     "data": {
      "text/plain": [
       "[4, 6, 8]"
      ]
     },
     "execution_count": 10,
     "metadata": {},
     "output_type": "execute_result"
    }
   ],
   "source": [
    "numbers.remove(2);\n",
    "\n",
    "numbers"
   ]
  },
  {
   "cell_type": "code",
   "execution_count": 11,
   "id": "ae7ec8c1-b777-4195-a669-fe1f7018b7f2",
   "metadata": {},
   "outputs": [
    {
     "data": {
      "text/plain": [
       "[]"
      ]
     },
     "execution_count": 11,
     "metadata": {},
     "output_type": "execute_result"
    }
   ],
   "source": [
    "numbers.removeAll(numbers);\n",
    "\n",
    "numbers"
   ]
  },
  {
   "cell_type": "code",
   "execution_count": 17,
   "id": "dc272c2c-0fe6-43bb-80ea-fb1b08d95c13",
   "metadata": {},
   "outputs": [
    {
     "data": {
      "text/plain": [
       "true"
      ]
     },
     "execution_count": 17,
     "metadata": {},
     "output_type": "execute_result"
    }
   ],
   "source": [
    "LinkedHashSet<Integer> set1 = new LinkedHashSet<Integer>();\n",
    "set1.add(2);\n",
    "set1.add(4);\n",
    "\n",
    "\n",
    "LinkedHashSet<Integer> set2 = new LinkedHashSet<Integer>();\n",
    "set2.add(2);\n",
    "set2.add(4);\n",
    "set2.add(6);\n"
   ]
  },
  {
   "cell_type": "code",
   "execution_count": 14,
   "id": "91fd952f-9f44-49dc-a954-2465505990e5",
   "metadata": {},
   "outputs": [
    {
     "data": {
      "text/plain": [
       "[2, 4, 6]"
      ]
     },
     "execution_count": 14,
     "metadata": {},
     "output_type": "execute_result"
    }
   ],
   "source": [
    "set1.addAll(set2);\n",
    "\n",
    "set1"
   ]
  },
  {
   "cell_type": "code",
   "execution_count": 16,
   "id": "840d10db-b785-4e37-a5c1-4d8bba223a85",
   "metadata": {},
   "outputs": [
    {
     "data": {
      "text/plain": [
       "[2, 4]"
      ]
     },
     "execution_count": 16,
     "metadata": {},
     "output_type": "execute_result"
    }
   ],
   "source": [
    "set1.retainAll(set2);\n",
    "\n",
    "set1"
   ]
  },
  {
   "cell_type": "code",
   "execution_count": 18,
   "id": "016790f7-ddef-4396-937e-1a9b08aec6cd",
   "metadata": {},
   "outputs": [
    {
     "data": {
      "text/plain": [
       "[]"
      ]
     },
     "execution_count": 18,
     "metadata": {},
     "output_type": "execute_result"
    }
   ],
   "source": [
    "set1.removeAll(set2);\n",
    "\n",
    "set1"
   ]
  },
  {
   "cell_type": "code",
   "execution_count": null,
   "id": "b5f426cb-acdc-45c4-ba8b-a20a5af82fae",
   "metadata": {},
   "outputs": [],
   "source": []
  }
 ],
 "metadata": {
  "kernelspec": {
   "display_name": "Java",
   "language": "java",
   "name": "java"
  },
  "language_info": {
   "codemirror_mode": "java",
   "file_extension": ".jshell",
   "mimetype": "text/x-java-source",
   "name": "Java",
   "pygments_lexer": "java",
   "version": "11.0.26+4-post-Ubuntu-1ubuntu124.04"
  }
 },
 "nbformat": 4,
 "nbformat_minor": 5
}
