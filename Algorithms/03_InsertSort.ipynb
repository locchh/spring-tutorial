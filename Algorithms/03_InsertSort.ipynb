{
 "cells": [
  {
   "cell_type": "code",
   "execution_count": null,
   "id": "80abbac4-efbe-4e74-9b69-59a877d482df",
   "metadata": {},
   "outputs": [],
   "source": []
  }
 ],
 "metadata": {
  "kernelspec": {
   "display_name": "Java",
   "language": "java",
   "name": "java"
  },
  "language_info": {
   "codemirror_mode": "java",
   "file_extension": ".jshell",
   "mimetype": "text/x-java-source",
   "name": "Java",
   "pygments_lexer": "java",
   "version": "11.0.27+6-post-Ubuntu-0ubuntu124.04"
  }
 },
 "nbformat": 4,
 "nbformat_minor": 5
}
