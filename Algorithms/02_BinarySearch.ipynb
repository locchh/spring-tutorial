{
 "cells": [
  {
   "cell_type": "markdown",
   "id": "ddb017c9-7511-4bda-b01b-7b3848ff1ea7",
   "metadata": {},
   "source": [
    "# Binary Search\n",
    "\n",
    "## Description\n",
    "Binary Search is an efficient searching algorithm used to find the position of a target value within a **sorted** list. It works by repeatedly dividing the search interval in half. If the target value is equal to the middle element, the search is complete. Otherwise, it continues in the half where the target must lie.\n",
    "\n",
    "Binary Search is significantly faster than Linear Search for large datasets but requires the data to be sorted.\n",
    "\n",
    "## Usage\n",
    "Binary Search is used when:\n",
    "- The dataset is large.\n",
    "- The data is sorted (ascending or descending).\n",
    "- Performance is critical and search operations are frequent.\n",
    "\n",
    "### Example:\n",
    "Finding the number 7 in the sorted array [1, 3, 5, 7, 9, 11]:\n",
    "- Check middle: 5 → less than 7 → search right half.\n",
    "- Check middle: 9 → greater than 7 → search left half.\n",
    "- Find 7.\n",
    "\n",
    "## Pseudo Code\n",
    "\n",
    "```\n",
    "function binarySearch(array, target):\n",
    "left = 0\n",
    "right = length(array) - 1\n",
    "while left <= right:\n",
    "    mid = (left + right) // 2\n",
    "    if array[mid] == target:\n",
    "        return mid\n",
    "    else if array[mid] < target:\n",
    "        left = mid + 1\n",
    "    else:\n",
    "        right = mid - 1\n",
    "\n",
    "return -1\n",
    "```\n",
    "\n",
    "## Complexity\n",
    "\n",
    "### Time Complexity\n",
    "- **Best Case (O(1))**: The target element is exactly at the middle.\n",
    "- **Average Case (O(log n))**: With each step, the search range is halved.\n",
    "- **Worst Case (O(log n))**: The element is not found, and the array is split down to zero elements.\n",
    "\n",
    "### Space Complexity\n",
    "- **O(1)**: Iterative binary search uses constant space.\n",
    "- **O(log n)**: If implemented recursively, due to the call stack."
   ]
  },
  {
   "cell_type": "code",
   "execution_count": 5,
   "id": "7bb7a941-5c94-45ef-b2f7-1067befd8efd",
   "metadata": {},
   "outputs": [],
   "source": [
    "class BinarySearch{\n",
    "\n",
    "    public static int search(int[] sortedArray, int value){\n",
    "        \n",
    "        int left = 0;\n",
    "        int right = sortedArray.length-1;\n",
    "        int mid; // declare middle value\n",
    "        \n",
    "        while (left <= right){\n",
    "\n",
    "            // calucalate middle position\n",
    "            //mid = (left + right)/2; //can cause integer overflow for large values\n",
    "            mid = left + (right -left)/2;\n",
    "            \n",
    "            if(sortedArray[mid]==value){\n",
    "                return mid;\n",
    "            }\n",
    "\n",
    "            // if the value < middle value\n",
    "            if(value < sortedArray[mid]){\n",
    "                // cut of right part\n",
    "                right = mid-1;\n",
    "            }\n",
    "            else{\n",
    "                // cut of left-part\n",
    "                left = mid +1;\n",
    "            }\n",
    "        }\n",
    "\n",
    "        return -1;\n",
    "    }\n",
    "}"
   ]
  },
  {
   "cell_type": "code",
   "execution_count": 6,
   "id": "412af992-a3d4-4dd3-85aa-afc5f994b56a",
   "metadata": {},
   "outputs": [
    {
     "name": "stdout",
     "output_type": "stream",
     "text": [
      "Value 12 Found at 5\n"
     ]
    }
   ],
   "source": [
    "int[] array = {1, 2, 4, 6, 8, 12, 14};\n",
    "int value = 12;\n",
    "int index = BinarySearch.search(array, value);\n",
    "\n",
    "if (index == -1){\n",
    "    System.out.println(\"Value \" + value + \" NOT found\");\n",
    "}\n",
    "else {\n",
    "    System.out.println(\"Value \" + value + \" Found at \" + index);\n",
    "}"
   ]
  },
  {
   "cell_type": "code",
   "execution_count": null,
   "id": "81c54f99-5881-4776-bdcf-2aa309f45c86",
   "metadata": {},
   "outputs": [],
   "source": []
  }
 ],
 "metadata": {
  "kernelspec": {
   "display_name": "Java",
   "language": "java",
   "name": "java"
  },
  "language_info": {
   "codemirror_mode": "java",
   "file_extension": ".jshell",
   "mimetype": "text/x-java-source",
   "name": "Java",
   "pygments_lexer": "java",
   "version": "11.0.27+6-post-Ubuntu-0ubuntu124.04"
  }
 },
 "nbformat": 4,
 "nbformat_minor": 5
}
