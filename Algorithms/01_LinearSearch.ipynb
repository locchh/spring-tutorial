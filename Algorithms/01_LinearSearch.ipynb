{
 "cells": [
  {
   "cell_type": "markdown",
   "id": "4843f986-72ee-4278-a113-a4c09de7addb",
   "metadata": {},
   "source": [
    "# Linear Search\n",
    "\n",
    "## Description\n",
    "Linear Search is a simple searching algorithm used to find the position of a target value within a list. It works by checking each element of the list sequentially until the desired element is found or the list ends.\n",
    "\n",
    "It does not require the input array to be sorted and is easy to implement. However, it is not the most efficient algorithm for large datasets.\n",
    "\n",
    "## Usage\n",
    "Linear Search is used when:\n",
    "- The dataset is small.\n",
    "- The data is unsorted.\n",
    "- Quick and simple implementation is more important than performance.\n",
    "\n",
    "### Example:\n",
    "Finding the number 7 in the array [3, 5, 7, 9, 11] would involve checking each element one by one from left to right.\n",
    "\n",
    "## Pseudo Code\n",
    "\n",
    "```\n",
    "function linearSearch(array, target):\n",
    "for index from 0 to length(array) - 1:\n",
    "if array\\[index] == target:\n",
    "return index\n",
    "return -1\n",
    "```\n",
    "\n",
    "## Complexity\n",
    "\n",
    "### Time Complexity\n",
    "- **Best Case (O(1))**: The target element is the first element in the array.\n",
    "- **Average Case (O(n))**: The target element is in the middle of the array.\n",
    "- **Worst Case (O(n))**: The target element is the last element or not in the array at all.\n",
    "\n",
    "### Space Complexity\n",
    "- **O(1)**: Linear Search uses constant auxiliary space. No additional data structures are used, just a few variables for indexing and storing the target.\n",
    "```"
   ]
  },
  {
   "cell_type": "code",
   "execution_count": 3,
   "id": "186a9c3c-f8a0-43bd-98d7-b8d824c2febd",
   "metadata": {},
   "outputs": [],
   "source": [
    "class LinearSearch {\n",
    "    public static int search(int[] array, int value){\n",
    "        for(int i = 0; i < array.length; i++){\n",
    "            if (array[i] == value){\n",
    "                return i;\n",
    "            }\n",
    "        }\n",
    "        return -1;\n",
    "    }\n",
    "}"
   ]
  },
  {
   "cell_type": "code",
   "execution_count": 4,
   "id": "25c0c0c0-a4ce-4839-9203-8e9bd1d103dc",
   "metadata": {},
   "outputs": [
    {
     "name": "stdout",
     "output_type": "stream",
     "text": [
      "Value 9 Found at 5\n"
     ]
    }
   ],
   "source": [
    "int[] array = {1, 4, 7, 8, 3, 9, 6};\n",
    "int value = 9;\n",
    "int index = LinearSearch.search(array, value);\n",
    "\n",
    "if (index == -1){\n",
    "    System.out.println(\"Value \" + value + \" NOT found\");\n",
    "}\n",
    "else {\n",
    "    System.out.println(\"Value \" + value + \" Found at \" + index);\n",
    "}"
   ]
  },
  {
   "cell_type": "code",
   "execution_count": null,
   "id": "fe47d222-efb0-4ced-a7b9-1637af4d1ac0",
   "metadata": {},
   "outputs": [],
   "source": []
  }
 ],
 "metadata": {
  "kernelspec": {
   "display_name": "Java",
   "language": "java",
   "name": "java"
  },
  "language_info": {
   "codemirror_mode": "java",
   "file_extension": ".jshell",
   "mimetype": "text/x-java-source",
   "name": "Java",
   "pygments_lexer": "java",
   "version": "11.0.27+6-post-Ubuntu-0ubuntu124.04"
  }
 },
 "nbformat": 4,
 "nbformat_minor": 5
}
