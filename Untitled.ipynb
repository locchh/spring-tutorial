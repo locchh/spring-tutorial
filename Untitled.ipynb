{
 "cells": [
  {
   "cell_type": "code",
   "execution_count": 6,
   "id": "81158bb9-39bd-478d-8f26-e1f29f6fdedf",
   "metadata": {},
   "outputs": [
    {
     "name": "stdout",
     "output_type": "stream",
     "text": [
      "Hello from Java in Jupyter!\n"
     ]
    }
   ],
   "source": [
    "System.out.println(\"Hello from Java in Jupyter!\");"
   ]
  },
  {
   "cell_type": "code",
   "execution_count": null,
   "id": "4b8b2ebd-7cca-4e71-9b20-ae51bf181710",
   "metadata": {},
   "outputs": [],
   "source": []
  }
 ],
 "metadata": {
  "kernelspec": {
   "display_name": "Java",
   "language": "java",
   "name": "java"
  },
  "language_info": {
   "codemirror_mode": "java",
   "file_extension": ".jshell",
   "mimetype": "text/x-java-source",
   "name": "Java",
   "pygments_lexer": "java",
   "version": "11.0.26+4-post-Ubuntu-1ubuntu124.04"
  }
 },
 "nbformat": 4,
 "nbformat_minor": 5
}
